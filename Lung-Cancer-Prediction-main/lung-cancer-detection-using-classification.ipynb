{
 "cells": [
  {
   "cell_type": "markdown",
   "id": "7678e01f",
   "metadata": {
    "papermill": {
     "duration": 0.014022,
     "end_time": "2022-07-30T04:03:43.718866",
     "exception": false,
     "start_time": "2022-07-30T04:03:43.704844",
     "status": "completed"
    },
    "tags": []
   },
   "source": [
    "<div style=\"width:100%;text-align: center;\"> <img align=middle src=\"https://media.istockphoto.com/photos/lung-cancer-picture-id94463987?b=1&k=20&m=94463987&s=170667a&w=0&h=8Rke8kc3eAY2uP3-o8AAATY8RtPfrfcBNCuQSiVTUs4=\" alt=\"Heat beating\" style=\"height:366px;margin-top:3rem;\"> </div>"
   ]
  },
  {
   "cell_type": "markdown",
   "id": "e56f4123",
   "metadata": {
    "papermill": {
     "duration": 0.012406,
     "end_time": "2022-07-30T04:03:43.745834",
     "exception": false,
     "start_time": "2022-07-30T04:03:43.733428",
     "status": "completed"
    },
    "tags": []
   },
   "source": [
    "# <h1 style='background:#E0BBE4; border:0; color:white'><center>🩺Lung Cancer detection with ML Model</center></h1> "
   ]
  },
  {
   "cell_type": "markdown",
   "id": "52136365",
   "metadata": {
    "papermill": {
     "duration": 0.012316,
     "end_time": "2022-07-30T04:03:43.770935",
     "exception": false,
     "start_time": "2022-07-30T04:03:43.758619",
     "status": "completed"
    },
    "tags": []
   },
   "source": [
    "# **<span style=\"color:#cd486b;\">🔖What will you learn in this notebook?</span>**\n",
    "\n",
    "> Play with dataset and try to optimize it to your use.\n",
    "\n",
    "> Learn to scale the dataset.\n",
    "\n",
    "> Try more than one classifier to get right predictions.\n",
    "\n",
    "> See if **\"Accuracy\"** as a metric can work each time or not?\n",
    "\n",
    "> What if precision and recall do not support accuracy values?\n",
    "\n",
    "> Learn about how to tackle an imbalanced dataset.\n",
    "\n",
    "> Techniques to resample your dataset to get a better fit."
   ]
  },
  {
   "cell_type": "markdown",
   "id": "098127a2",
   "metadata": {
    "papermill": {
     "duration": 0.012378,
     "end_time": "2022-07-30T04:03:43.795937",
     "exception": false,
     "start_time": "2022-07-30T04:03:43.783559",
     "status": "completed"
    },
    "tags": []
   },
   "source": [
    "# **<span style=\"color:#cd486b;\">📰About the Dataset</span>**\n",
    "\n",
    "The effectiveness of the cancer prediction system helps people to know their cancer risk wi a low cost and it also helps the people to take the appropriate decision based on their cancer risk status. The data is collected from the website online lung cancer prediction system.\n",
    "\n",
    "# **<span style=\"color:#cd486b;\">📁About the files</span>**\n",
    "\n",
    "The effectiveness of the cancer prediction system helps people to know their cancer risk wi a low cost and it also helps people to take the appropriate decision based on their cancer risk status. The data is collected from the website online lung cancer prediction system.\n",
    "\n",
    "**Total no. of attributes:16**\n",
    "\n",
    "**No .of instances:284** \n",
    "\n",
    "**Attribute information:**\n",
    "\n",
    "1. Gender: M(male), F(female) \n",
    "\n",
    "2. Age: Age of the patient \n",
    "\n",
    "3. Smoking: YES=2, NO=1\n",
    "\n",
    "4. Yellow fingers: YES=2 , NO = 1\n",
    "\n",
    "5. Anxiety: YES=2, NO=1\n",
    "\n",
    "6. Peer_pressure: YES=2, NO=1.\n",
    "\n",
    "7. Chronic Disease: YES=2, NO=1. \n",
    "\n",
    "8. Fatigue: YES=2 , NO=1.\n",
    "\n",
    "9. Allergy: YES=2, NO=1.\n",
    "\n",
    "10. Wheezing: YES=2, NO=1. \n",
    "\n",
    "11. Alcohol: YES=2, NO=1. \n",
    "\n",
    "12. Coughing: YES=2, NO=1. \n",
    "\n",
    "13. Shortness of Breath: YES=2, NO=1\n",
    "\n",
    "14. Swallowing Difficulty: YES=2, NO=1\n",
    "\n",
    "15. Chest pain: YES=2, NO=1. \n",
    "\n",
    "16. Lung Cancer: YES, NO."
   ]
  },
  {
   "cell_type": "code",
   "execution_count": 1,
   "id": "aa7ceb7c",
   "metadata": {
    "execution": {
     "iopub.execute_input": "2022-07-30T04:03:43.823727Z",
     "iopub.status.busy": "2022-07-30T04:03:43.823104Z",
     "iopub.status.idle": "2022-07-30T04:03:45.355539Z",
     "shell.execute_reply": "2022-07-30T04:03:45.354321Z"
    },
    "papermill": {
     "duration": 1.549737,
     "end_time": "2022-07-30T04:03:45.358333",
     "exception": false,
     "start_time": "2022-07-30T04:03:43.808596",
     "status": "completed"
    },
    "tags": []
   },
   "outputs": [],
   "source": [
    "# Imports\n",
    "\n",
    "from sklearn.ensemble import RandomForestClassifier\n",
    "from imblearn.ensemble import BalancedRandomForestClassifier\n",
    "from sklearn import svm\n",
    "from sklearn.metrics import mean_absolute_error\n",
    "from sklearn.model_selection import train_test_split\n",
    "from sklearn.neighbors import KNeighborsClassifier"
   ]
  },
  {
   "cell_type": "code",
   "execution_count": 2,
   "id": "17fc161d",
   "metadata": {
    "execution": {
     "iopub.execute_input": "2022-07-30T04:03:45.387261Z",
     "iopub.status.busy": "2022-07-30T04:03:45.386824Z",
     "iopub.status.idle": "2022-07-30T04:03:45.391580Z",
     "shell.execute_reply": "2022-07-30T04:03:45.390529Z"
    },
    "papermill": {
     "duration": 0.021865,
     "end_time": "2022-07-30T04:03:45.393630",
     "exception": false,
     "start_time": "2022-07-30T04:03:45.371765",
     "status": "completed"
    },
    "tags": []
   },
   "outputs": [],
   "source": [
    "#Environment check\n",
    "import os\n",
    "import warnings\n",
    "warnings.filterwarnings(\"ignore\")"
   ]
  },
  {
   "cell_type": "markdown",
   "id": "16440a14",
   "metadata": {
    "papermill": {
     "duration": 0.012113,
     "end_time": "2022-07-30T04:03:45.418299",
     "exception": false,
     "start_time": "2022-07-30T04:03:45.406186",
     "status": "completed"
    },
    "tags": []
   },
   "source": [
    "## **<span style=\"color:#cd486b;\">📃 Let's get the data</span>**"
   ]
  },
  {
   "cell_type": "code",
   "execution_count": 3,
   "id": "d2904834",
   "metadata": {
    "execution": {
     "iopub.execute_input": "2022-07-30T04:03:45.445190Z",
     "iopub.status.busy": "2022-07-30T04:03:45.444435Z",
     "iopub.status.idle": "2022-07-30T04:03:45.456971Z",
     "shell.execute_reply": "2022-07-30T04:03:45.455824Z"
    },
    "papermill": {
     "duration": 0.028777,
     "end_time": "2022-07-30T04:03:45.459406",
     "exception": false,
     "start_time": "2022-07-30T04:03:45.430629",
     "status": "completed"
    },
    "tags": []
   },
   "outputs": [
    {
     "name": "stdout",
     "output_type": "stream",
     "text": [
      "/kaggle/input/lung-cancer-detection/survey lung cancer.csv\n"
     ]
    }
   ],
   "source": [
    "# This Python 3 environment comes with many helpful analytics libraries installed\n",
    "# It is defined by the kaggle/python Docker image: https://github.com/kaggle/docker-python\n",
    "# For example, here's several helpful packages to load\n",
    "\n",
    "import numpy as np # linear algebra\n",
    "import pandas as pd # data processing, CSV file I/O (e.g. pd.read_csv)\n",
    "\n",
    "# Input data files are available in the read-only \"../input/\" directory\n",
    "# For example, running this (by clicking run or pressing Shift+Enter) will list all files under the input directory\n",
    "\n",
    "import os\n",
    "for dirname, _, filenames in os.walk('/kaggle/input'):\n",
    "    for filename in filenames:\n",
    "        print(os.path.join(dirname, filename))\n",
    "\n",
    "# You can write up to 20GB to the current directory (/kaggle/working/) that gets preserved as output when you create a version using \"Save & Run All\" \n",
    "# You can also write temporary files to /kaggle/temp/, but they won't be saved outside of the current session"
   ]
  },
  {
   "cell_type": "code",
   "execution_count": 4,
   "id": "5ab003a9",
   "metadata": {
    "execution": {
     "iopub.execute_input": "2022-07-30T04:03:45.488671Z",
     "iopub.status.busy": "2022-07-30T04:03:45.487850Z",
     "iopub.status.idle": "2022-07-30T04:03:45.505713Z",
     "shell.execute_reply": "2022-07-30T04:03:45.504459Z"
    },
    "papermill": {
     "duration": 0.03484,
     "end_time": "2022-07-30T04:03:45.507996",
     "exception": false,
     "start_time": "2022-07-30T04:03:45.473156",
     "status": "completed"
    },
    "tags": []
   },
   "outputs": [],
   "source": [
    "df = pd.read_csv('/kaggle/input/lung-cancer-detection/survey lung cancer.csv')"
   ]
  },
  {
   "cell_type": "code",
   "execution_count": 5,
   "id": "2ee9aff5",
   "metadata": {
    "execution": {
     "iopub.execute_input": "2022-07-30T04:03:45.535615Z",
     "iopub.status.busy": "2022-07-30T04:03:45.534927Z",
     "iopub.status.idle": "2022-07-30T04:03:45.562871Z",
     "shell.execute_reply": "2022-07-30T04:03:45.562088Z"
    },
    "papermill": {
     "duration": 0.044263,
     "end_time": "2022-07-30T04:03:45.565096",
     "exception": false,
     "start_time": "2022-07-30T04:03:45.520833",
     "status": "completed"
    },
    "tags": []
   },
   "outputs": [
    {
     "name": "stdout",
     "output_type": "stream",
     "text": [
      "<class 'pandas.core.frame.DataFrame'>\n",
      "RangeIndex: 309 entries, 0 to 308\n",
      "Data columns (total 16 columns):\n",
      " #   Column                 Non-Null Count  Dtype \n",
      "---  ------                 --------------  ----- \n",
      " 0   GENDER                 309 non-null    object\n",
      " 1   AGE                    309 non-null    int64 \n",
      " 2   SMOKING                309 non-null    int64 \n",
      " 3   YELLOW_FINGERS         309 non-null    int64 \n",
      " 4   ANXIETY                309 non-null    int64 \n",
      " 5   PEER_PRESSURE          309 non-null    int64 \n",
      " 6   CHRONIC DISEASE        309 non-null    int64 \n",
      " 7   FATIGUE                309 non-null    int64 \n",
      " 8   ALLERGY                309 non-null    int64 \n",
      " 9   WHEEZING               309 non-null    int64 \n",
      " 10  ALCOHOL CONSUMING      309 non-null    int64 \n",
      " 11  COUGHING               309 non-null    int64 \n",
      " 12  SHORTNESS OF BREATH    309 non-null    int64 \n",
      " 13  SWALLOWING DIFFICULTY  309 non-null    int64 \n",
      " 14  CHEST PAIN             309 non-null    int64 \n",
      " 15  LUNG_CANCER            309 non-null    object\n",
      "dtypes: int64(14), object(2)\n",
      "memory usage: 38.8+ KB\n"
     ]
    }
   ],
   "source": [
    "df.info()"
   ]
  },
  {
   "cell_type": "code",
   "execution_count": 6,
   "id": "ad021931",
   "metadata": {
    "execution": {
     "iopub.execute_input": "2022-07-30T04:03:45.592797Z",
     "iopub.status.busy": "2022-07-30T04:03:45.592020Z",
     "iopub.status.idle": "2022-07-30T04:03:45.647758Z",
     "shell.execute_reply": "2022-07-30T04:03:45.646417Z"
    },
    "papermill": {
     "duration": 0.072226,
     "end_time": "2022-07-30T04:03:45.650097",
     "exception": false,
     "start_time": "2022-07-30T04:03:45.577871",
     "status": "completed"
    },
    "tags": []
   },
   "outputs": [
    {
     "data": {
      "text/html": [
       "<div>\n",
       "<style scoped>\n",
       "    .dataframe tbody tr th:only-of-type {\n",
       "        vertical-align: middle;\n",
       "    }\n",
       "\n",
       "    .dataframe tbody tr th {\n",
       "        vertical-align: top;\n",
       "    }\n",
       "\n",
       "    .dataframe thead th {\n",
       "        text-align: right;\n",
       "    }\n",
       "</style>\n",
       "<table border=\"1\" class=\"dataframe\">\n",
       "  <thead>\n",
       "    <tr style=\"text-align: right;\">\n",
       "      <th></th>\n",
       "      <th>AGE</th>\n",
       "      <th>SMOKING</th>\n",
       "      <th>YELLOW_FINGERS</th>\n",
       "      <th>ANXIETY</th>\n",
       "      <th>PEER_PRESSURE</th>\n",
       "      <th>CHRONIC DISEASE</th>\n",
       "      <th>FATIGUE</th>\n",
       "      <th>ALLERGY</th>\n",
       "      <th>WHEEZING</th>\n",
       "      <th>ALCOHOL CONSUMING</th>\n",
       "      <th>COUGHING</th>\n",
       "      <th>SHORTNESS OF BREATH</th>\n",
       "      <th>SWALLOWING DIFFICULTY</th>\n",
       "      <th>CHEST PAIN</th>\n",
       "    </tr>\n",
       "  </thead>\n",
       "  <tbody>\n",
       "    <tr>\n",
       "      <th>count</th>\n",
       "      <td>309.000000</td>\n",
       "      <td>309.000000</td>\n",
       "      <td>309.000000</td>\n",
       "      <td>309.000000</td>\n",
       "      <td>309.000000</td>\n",
       "      <td>309.000000</td>\n",
       "      <td>309.000000</td>\n",
       "      <td>309.000000</td>\n",
       "      <td>309.000000</td>\n",
       "      <td>309.000000</td>\n",
       "      <td>309.000000</td>\n",
       "      <td>309.000000</td>\n",
       "      <td>309.000000</td>\n",
       "      <td>309.000000</td>\n",
       "    </tr>\n",
       "    <tr>\n",
       "      <th>mean</th>\n",
       "      <td>62.673139</td>\n",
       "      <td>1.563107</td>\n",
       "      <td>1.569579</td>\n",
       "      <td>1.498382</td>\n",
       "      <td>1.501618</td>\n",
       "      <td>1.504854</td>\n",
       "      <td>1.673139</td>\n",
       "      <td>1.556634</td>\n",
       "      <td>1.556634</td>\n",
       "      <td>1.556634</td>\n",
       "      <td>1.579288</td>\n",
       "      <td>1.640777</td>\n",
       "      <td>1.469256</td>\n",
       "      <td>1.556634</td>\n",
       "    </tr>\n",
       "    <tr>\n",
       "      <th>std</th>\n",
       "      <td>8.210301</td>\n",
       "      <td>0.496806</td>\n",
       "      <td>0.495938</td>\n",
       "      <td>0.500808</td>\n",
       "      <td>0.500808</td>\n",
       "      <td>0.500787</td>\n",
       "      <td>0.469827</td>\n",
       "      <td>0.497588</td>\n",
       "      <td>0.497588</td>\n",
       "      <td>0.497588</td>\n",
       "      <td>0.494474</td>\n",
       "      <td>0.480551</td>\n",
       "      <td>0.499863</td>\n",
       "      <td>0.497588</td>\n",
       "    </tr>\n",
       "    <tr>\n",
       "      <th>min</th>\n",
       "      <td>21.000000</td>\n",
       "      <td>1.000000</td>\n",
       "      <td>1.000000</td>\n",
       "      <td>1.000000</td>\n",
       "      <td>1.000000</td>\n",
       "      <td>1.000000</td>\n",
       "      <td>1.000000</td>\n",
       "      <td>1.000000</td>\n",
       "      <td>1.000000</td>\n",
       "      <td>1.000000</td>\n",
       "      <td>1.000000</td>\n",
       "      <td>1.000000</td>\n",
       "      <td>1.000000</td>\n",
       "      <td>1.000000</td>\n",
       "    </tr>\n",
       "    <tr>\n",
       "      <th>25%</th>\n",
       "      <td>57.000000</td>\n",
       "      <td>1.000000</td>\n",
       "      <td>1.000000</td>\n",
       "      <td>1.000000</td>\n",
       "      <td>1.000000</td>\n",
       "      <td>1.000000</td>\n",
       "      <td>1.000000</td>\n",
       "      <td>1.000000</td>\n",
       "      <td>1.000000</td>\n",
       "      <td>1.000000</td>\n",
       "      <td>1.000000</td>\n",
       "      <td>1.000000</td>\n",
       "      <td>1.000000</td>\n",
       "      <td>1.000000</td>\n",
       "    </tr>\n",
       "    <tr>\n",
       "      <th>50%</th>\n",
       "      <td>62.000000</td>\n",
       "      <td>2.000000</td>\n",
       "      <td>2.000000</td>\n",
       "      <td>1.000000</td>\n",
       "      <td>2.000000</td>\n",
       "      <td>2.000000</td>\n",
       "      <td>2.000000</td>\n",
       "      <td>2.000000</td>\n",
       "      <td>2.000000</td>\n",
       "      <td>2.000000</td>\n",
       "      <td>2.000000</td>\n",
       "      <td>2.000000</td>\n",
       "      <td>1.000000</td>\n",
       "      <td>2.000000</td>\n",
       "    </tr>\n",
       "    <tr>\n",
       "      <th>75%</th>\n",
       "      <td>69.000000</td>\n",
       "      <td>2.000000</td>\n",
       "      <td>2.000000</td>\n",
       "      <td>2.000000</td>\n",
       "      <td>2.000000</td>\n",
       "      <td>2.000000</td>\n",
       "      <td>2.000000</td>\n",
       "      <td>2.000000</td>\n",
       "      <td>2.000000</td>\n",
       "      <td>2.000000</td>\n",
       "      <td>2.000000</td>\n",
       "      <td>2.000000</td>\n",
       "      <td>2.000000</td>\n",
       "      <td>2.000000</td>\n",
       "    </tr>\n",
       "    <tr>\n",
       "      <th>max</th>\n",
       "      <td>87.000000</td>\n",
       "      <td>2.000000</td>\n",
       "      <td>2.000000</td>\n",
       "      <td>2.000000</td>\n",
       "      <td>2.000000</td>\n",
       "      <td>2.000000</td>\n",
       "      <td>2.000000</td>\n",
       "      <td>2.000000</td>\n",
       "      <td>2.000000</td>\n",
       "      <td>2.000000</td>\n",
       "      <td>2.000000</td>\n",
       "      <td>2.000000</td>\n",
       "      <td>2.000000</td>\n",
       "      <td>2.000000</td>\n",
       "    </tr>\n",
       "  </tbody>\n",
       "</table>\n",
       "</div>"
      ],
      "text/plain": [
       "              AGE     SMOKING  YELLOW_FINGERS     ANXIETY  PEER_PRESSURE  \\\n",
       "count  309.000000  309.000000      309.000000  309.000000     309.000000   \n",
       "mean    62.673139    1.563107        1.569579    1.498382       1.501618   \n",
       "std      8.210301    0.496806        0.495938    0.500808       0.500808   \n",
       "min     21.000000    1.000000        1.000000    1.000000       1.000000   \n",
       "25%     57.000000    1.000000        1.000000    1.000000       1.000000   \n",
       "50%     62.000000    2.000000        2.000000    1.000000       2.000000   \n",
       "75%     69.000000    2.000000        2.000000    2.000000       2.000000   \n",
       "max     87.000000    2.000000        2.000000    2.000000       2.000000   \n",
       "\n",
       "       CHRONIC DISEASE    FATIGUE     ALLERGY     WHEEZING  ALCOHOL CONSUMING  \\\n",
       "count       309.000000  309.000000  309.000000  309.000000         309.000000   \n",
       "mean          1.504854    1.673139    1.556634    1.556634           1.556634   \n",
       "std           0.500787    0.469827    0.497588    0.497588           0.497588   \n",
       "min           1.000000    1.000000    1.000000    1.000000           1.000000   \n",
       "25%           1.000000    1.000000    1.000000    1.000000           1.000000   \n",
       "50%           2.000000    2.000000    2.000000    2.000000           2.000000   \n",
       "75%           2.000000    2.000000    2.000000    2.000000           2.000000   \n",
       "max           2.000000    2.000000    2.000000    2.000000           2.000000   \n",
       "\n",
       "         COUGHING  SHORTNESS OF BREATH  SWALLOWING DIFFICULTY  CHEST PAIN  \n",
       "count  309.000000           309.000000             309.000000  309.000000  \n",
       "mean     1.579288             1.640777               1.469256    1.556634  \n",
       "std      0.494474             0.480551               0.499863    0.497588  \n",
       "min      1.000000             1.000000               1.000000    1.000000  \n",
       "25%      1.000000             1.000000               1.000000    1.000000  \n",
       "50%      2.000000             2.000000               1.000000    2.000000  \n",
       "75%      2.000000             2.000000               2.000000    2.000000  \n",
       "max      2.000000             2.000000               2.000000    2.000000  "
      ]
     },
     "execution_count": 6,
     "metadata": {},
     "output_type": "execute_result"
    }
   ],
   "source": [
    "df.describe()"
   ]
  },
  {
   "cell_type": "code",
   "execution_count": 7,
   "id": "e02aae8f",
   "metadata": {
    "execution": {
     "iopub.execute_input": "2022-07-30T04:03:45.678705Z",
     "iopub.status.busy": "2022-07-30T04:03:45.677931Z",
     "iopub.status.idle": "2022-07-30T04:03:45.685102Z",
     "shell.execute_reply": "2022-07-30T04:03:45.684336Z"
    },
    "papermill": {
     "duration": 0.023733,
     "end_time": "2022-07-30T04:03:45.687122",
     "exception": false,
     "start_time": "2022-07-30T04:03:45.663389",
     "status": "completed"
    },
    "tags": []
   },
   "outputs": [
    {
     "data": {
      "text/plain": [
       "Index(['GENDER', 'AGE', 'SMOKING', 'YELLOW_FINGERS', 'ANXIETY',\n",
       "       'PEER_PRESSURE', 'CHRONIC DISEASE', 'FATIGUE ', 'ALLERGY ', 'WHEEZING',\n",
       "       'ALCOHOL CONSUMING', 'COUGHING', 'SHORTNESS OF BREATH',\n",
       "       'SWALLOWING DIFFICULTY', 'CHEST PAIN', 'LUNG_CANCER'],\n",
       "      dtype='object')"
      ]
     },
     "execution_count": 7,
     "metadata": {},
     "output_type": "execute_result"
    }
   ],
   "source": [
    "df.columns"
   ]
  },
  {
   "cell_type": "code",
   "execution_count": 8,
   "id": "001784e6",
   "metadata": {
    "execution": {
     "iopub.execute_input": "2022-07-30T04:03:45.715427Z",
     "iopub.status.busy": "2022-07-30T04:03:45.714988Z",
     "iopub.status.idle": "2022-07-30T04:03:45.729989Z",
     "shell.execute_reply": "2022-07-30T04:03:45.728856Z"
    },
    "papermill": {
     "duration": 0.03178,
     "end_time": "2022-07-30T04:03:45.732205",
     "exception": false,
     "start_time": "2022-07-30T04:03:45.700425",
     "status": "completed"
    },
    "tags": []
   },
   "outputs": [
    {
     "data": {
      "text/html": [
       "<div>\n",
       "<style scoped>\n",
       "    .dataframe tbody tr th:only-of-type {\n",
       "        vertical-align: middle;\n",
       "    }\n",
       "\n",
       "    .dataframe tbody tr th {\n",
       "        vertical-align: top;\n",
       "    }\n",
       "\n",
       "    .dataframe thead th {\n",
       "        text-align: right;\n",
       "    }\n",
       "</style>\n",
       "<table border=\"1\" class=\"dataframe\">\n",
       "  <thead>\n",
       "    <tr style=\"text-align: right;\">\n",
       "      <th></th>\n",
       "      <th>GENDER</th>\n",
       "      <th>AGE</th>\n",
       "      <th>SMOKING</th>\n",
       "      <th>YELLOW_FINGERS</th>\n",
       "      <th>ANXIETY</th>\n",
       "      <th>PEER_PRESSURE</th>\n",
       "      <th>CHRONIC DISEASE</th>\n",
       "      <th>FATIGUE</th>\n",
       "      <th>ALLERGY</th>\n",
       "      <th>WHEEZING</th>\n",
       "      <th>ALCOHOL CONSUMING</th>\n",
       "      <th>COUGHING</th>\n",
       "      <th>SHORTNESS OF BREATH</th>\n",
       "      <th>SWALLOWING DIFFICULTY</th>\n",
       "      <th>CHEST PAIN</th>\n",
       "      <th>LUNG_CANCER</th>\n",
       "    </tr>\n",
       "  </thead>\n",
       "  <tbody>\n",
       "    <tr>\n",
       "      <th>0</th>\n",
       "      <td>M</td>\n",
       "      <td>69</td>\n",
       "      <td>1</td>\n",
       "      <td>2</td>\n",
       "      <td>2</td>\n",
       "      <td>1</td>\n",
       "      <td>1</td>\n",
       "      <td>2</td>\n",
       "      <td>1</td>\n",
       "      <td>2</td>\n",
       "      <td>2</td>\n",
       "      <td>2</td>\n",
       "      <td>2</td>\n",
       "      <td>2</td>\n",
       "      <td>2</td>\n",
       "      <td>YES</td>\n",
       "    </tr>\n",
       "    <tr>\n",
       "      <th>1</th>\n",
       "      <td>M</td>\n",
       "      <td>74</td>\n",
       "      <td>2</td>\n",
       "      <td>1</td>\n",
       "      <td>1</td>\n",
       "      <td>1</td>\n",
       "      <td>2</td>\n",
       "      <td>2</td>\n",
       "      <td>2</td>\n",
       "      <td>1</td>\n",
       "      <td>1</td>\n",
       "      <td>1</td>\n",
       "      <td>2</td>\n",
       "      <td>2</td>\n",
       "      <td>2</td>\n",
       "      <td>YES</td>\n",
       "    </tr>\n",
       "    <tr>\n",
       "      <th>2</th>\n",
       "      <td>F</td>\n",
       "      <td>59</td>\n",
       "      <td>1</td>\n",
       "      <td>1</td>\n",
       "      <td>1</td>\n",
       "      <td>2</td>\n",
       "      <td>1</td>\n",
       "      <td>2</td>\n",
       "      <td>1</td>\n",
       "      <td>2</td>\n",
       "      <td>1</td>\n",
       "      <td>2</td>\n",
       "      <td>2</td>\n",
       "      <td>1</td>\n",
       "      <td>2</td>\n",
       "      <td>NO</td>\n",
       "    </tr>\n",
       "    <tr>\n",
       "      <th>3</th>\n",
       "      <td>M</td>\n",
       "      <td>63</td>\n",
       "      <td>2</td>\n",
       "      <td>2</td>\n",
       "      <td>2</td>\n",
       "      <td>1</td>\n",
       "      <td>1</td>\n",
       "      <td>1</td>\n",
       "      <td>1</td>\n",
       "      <td>1</td>\n",
       "      <td>2</td>\n",
       "      <td>1</td>\n",
       "      <td>1</td>\n",
       "      <td>2</td>\n",
       "      <td>2</td>\n",
       "      <td>NO</td>\n",
       "    </tr>\n",
       "    <tr>\n",
       "      <th>4</th>\n",
       "      <td>F</td>\n",
       "      <td>63</td>\n",
       "      <td>1</td>\n",
       "      <td>2</td>\n",
       "      <td>1</td>\n",
       "      <td>1</td>\n",
       "      <td>1</td>\n",
       "      <td>1</td>\n",
       "      <td>1</td>\n",
       "      <td>2</td>\n",
       "      <td>1</td>\n",
       "      <td>2</td>\n",
       "      <td>2</td>\n",
       "      <td>1</td>\n",
       "      <td>1</td>\n",
       "      <td>NO</td>\n",
       "    </tr>\n",
       "  </tbody>\n",
       "</table>\n",
       "</div>"
      ],
      "text/plain": [
       "  GENDER  AGE  SMOKING  YELLOW_FINGERS  ANXIETY  PEER_PRESSURE  \\\n",
       "0      M   69        1               2        2              1   \n",
       "1      M   74        2               1        1              1   \n",
       "2      F   59        1               1        1              2   \n",
       "3      M   63        2               2        2              1   \n",
       "4      F   63        1               2        1              1   \n",
       "\n",
       "   CHRONIC DISEASE  FATIGUE   ALLERGY   WHEEZING  ALCOHOL CONSUMING  COUGHING  \\\n",
       "0                1         2         1         2                  2         2   \n",
       "1                2         2         2         1                  1         1   \n",
       "2                1         2         1         2                  1         2   \n",
       "3                1         1         1         1                  2         1   \n",
       "4                1         1         1         2                  1         2   \n",
       "\n",
       "   SHORTNESS OF BREATH  SWALLOWING DIFFICULTY  CHEST PAIN LUNG_CANCER  \n",
       "0                    2                      2           2         YES  \n",
       "1                    2                      2           2         YES  \n",
       "2                    2                      1           2          NO  \n",
       "3                    1                      2           2          NO  \n",
       "4                    2                      1           1          NO  "
      ]
     },
     "execution_count": 8,
     "metadata": {},
     "output_type": "execute_result"
    }
   ],
   "source": [
    "df.head()"
   ]
  },
  {
   "cell_type": "markdown",
   "id": "ba5715f2",
   "metadata": {
    "papermill": {
     "duration": 0.013203,
     "end_time": "2022-07-30T04:03:45.758852",
     "exception": false,
     "start_time": "2022-07-30T04:03:45.745649",
     "status": "completed"
    },
    "tags": []
   },
   "source": [
    "## **<span style=\"color:#cd486b;\">📐Feature engineering and mapping</span>**\n",
    "\n",
    "> This includes setting strings like Yes/No to integers which match with datatype of other parameters.\n"
   ]
  },
  {
   "cell_type": "code",
   "execution_count": 9,
   "id": "2dc7d8bc",
   "metadata": {
    "execution": {
     "iopub.execute_input": "2022-07-30T04:03:45.790733Z",
     "iopub.status.busy": "2022-07-30T04:03:45.790294Z",
     "iopub.status.idle": "2022-07-30T04:03:45.795775Z",
     "shell.execute_reply": "2022-07-30T04:03:45.794971Z"
    },
    "papermill": {
     "duration": 0.023575,
     "end_time": "2022-07-30T04:03:45.797763",
     "exception": false,
     "start_time": "2022-07-30T04:03:45.774188",
     "status": "completed"
    },
    "tags": []
   },
   "outputs": [],
   "source": [
    "df['LUNG_CANCER']=df['LUNG_CANCER'].map({'YES':2,'NO':1})"
   ]
  },
  {
   "cell_type": "code",
   "execution_count": 10,
   "id": "ce3964c4",
   "metadata": {
    "execution": {
     "iopub.execute_input": "2022-07-30T04:03:45.827416Z",
     "iopub.status.busy": "2022-07-30T04:03:45.826719Z",
     "iopub.status.idle": "2022-07-30T04:03:45.832339Z",
     "shell.execute_reply": "2022-07-30T04:03:45.831550Z"
    },
    "papermill": {
     "duration": 0.023225,
     "end_time": "2022-07-30T04:03:45.834522",
     "exception": false,
     "start_time": "2022-07-30T04:03:45.811297",
     "status": "completed"
    },
    "tags": []
   },
   "outputs": [],
   "source": [
    "df['GENDER']=df['GENDER'].map({'M':1,'F':2})"
   ]
  },
  {
   "cell_type": "code",
   "execution_count": 11,
   "id": "0457bb41",
   "metadata": {
    "execution": {
     "iopub.execute_input": "2022-07-30T04:03:45.864487Z",
     "iopub.status.busy": "2022-07-30T04:03:45.863772Z",
     "iopub.status.idle": "2022-07-30T04:03:45.878203Z",
     "shell.execute_reply": "2022-07-30T04:03:45.877123Z"
    },
    "papermill": {
     "duration": 0.032341,
     "end_time": "2022-07-30T04:03:45.880734",
     "exception": false,
     "start_time": "2022-07-30T04:03:45.848393",
     "status": "completed"
    },
    "tags": []
   },
   "outputs": [
    {
     "data": {
      "text/html": [
       "<div>\n",
       "<style scoped>\n",
       "    .dataframe tbody tr th:only-of-type {\n",
       "        vertical-align: middle;\n",
       "    }\n",
       "\n",
       "    .dataframe tbody tr th {\n",
       "        vertical-align: top;\n",
       "    }\n",
       "\n",
       "    .dataframe thead th {\n",
       "        text-align: right;\n",
       "    }\n",
       "</style>\n",
       "<table border=\"1\" class=\"dataframe\">\n",
       "  <thead>\n",
       "    <tr style=\"text-align: right;\">\n",
       "      <th></th>\n",
       "      <th>GENDER</th>\n",
       "      <th>AGE</th>\n",
       "      <th>SMOKING</th>\n",
       "      <th>YELLOW_FINGERS</th>\n",
       "      <th>ANXIETY</th>\n",
       "      <th>PEER_PRESSURE</th>\n",
       "      <th>CHRONIC DISEASE</th>\n",
       "      <th>FATIGUE</th>\n",
       "      <th>ALLERGY</th>\n",
       "      <th>WHEEZING</th>\n",
       "      <th>ALCOHOL CONSUMING</th>\n",
       "      <th>COUGHING</th>\n",
       "      <th>SHORTNESS OF BREATH</th>\n",
       "      <th>SWALLOWING DIFFICULTY</th>\n",
       "      <th>CHEST PAIN</th>\n",
       "      <th>LUNG_CANCER</th>\n",
       "    </tr>\n",
       "  </thead>\n",
       "  <tbody>\n",
       "    <tr>\n",
       "      <th>0</th>\n",
       "      <td>1</td>\n",
       "      <td>69</td>\n",
       "      <td>1</td>\n",
       "      <td>2</td>\n",
       "      <td>2</td>\n",
       "      <td>1</td>\n",
       "      <td>1</td>\n",
       "      <td>2</td>\n",
       "      <td>1</td>\n",
       "      <td>2</td>\n",
       "      <td>2</td>\n",
       "      <td>2</td>\n",
       "      <td>2</td>\n",
       "      <td>2</td>\n",
       "      <td>2</td>\n",
       "      <td>2</td>\n",
       "    </tr>\n",
       "    <tr>\n",
       "      <th>1</th>\n",
       "      <td>1</td>\n",
       "      <td>74</td>\n",
       "      <td>2</td>\n",
       "      <td>1</td>\n",
       "      <td>1</td>\n",
       "      <td>1</td>\n",
       "      <td>2</td>\n",
       "      <td>2</td>\n",
       "      <td>2</td>\n",
       "      <td>1</td>\n",
       "      <td>1</td>\n",
       "      <td>1</td>\n",
       "      <td>2</td>\n",
       "      <td>2</td>\n",
       "      <td>2</td>\n",
       "      <td>2</td>\n",
       "    </tr>\n",
       "    <tr>\n",
       "      <th>2</th>\n",
       "      <td>2</td>\n",
       "      <td>59</td>\n",
       "      <td>1</td>\n",
       "      <td>1</td>\n",
       "      <td>1</td>\n",
       "      <td>2</td>\n",
       "      <td>1</td>\n",
       "      <td>2</td>\n",
       "      <td>1</td>\n",
       "      <td>2</td>\n",
       "      <td>1</td>\n",
       "      <td>2</td>\n",
       "      <td>2</td>\n",
       "      <td>1</td>\n",
       "      <td>2</td>\n",
       "      <td>1</td>\n",
       "    </tr>\n",
       "    <tr>\n",
       "      <th>3</th>\n",
       "      <td>1</td>\n",
       "      <td>63</td>\n",
       "      <td>2</td>\n",
       "      <td>2</td>\n",
       "      <td>2</td>\n",
       "      <td>1</td>\n",
       "      <td>1</td>\n",
       "      <td>1</td>\n",
       "      <td>1</td>\n",
       "      <td>1</td>\n",
       "      <td>2</td>\n",
       "      <td>1</td>\n",
       "      <td>1</td>\n",
       "      <td>2</td>\n",
       "      <td>2</td>\n",
       "      <td>1</td>\n",
       "    </tr>\n",
       "    <tr>\n",
       "      <th>4</th>\n",
       "      <td>2</td>\n",
       "      <td>63</td>\n",
       "      <td>1</td>\n",
       "      <td>2</td>\n",
       "      <td>1</td>\n",
       "      <td>1</td>\n",
       "      <td>1</td>\n",
       "      <td>1</td>\n",
       "      <td>1</td>\n",
       "      <td>2</td>\n",
       "      <td>1</td>\n",
       "      <td>2</td>\n",
       "      <td>2</td>\n",
       "      <td>1</td>\n",
       "      <td>1</td>\n",
       "      <td>1</td>\n",
       "    </tr>\n",
       "  </tbody>\n",
       "</table>\n",
       "</div>"
      ],
      "text/plain": [
       "   GENDER  AGE  SMOKING  YELLOW_FINGERS  ANXIETY  PEER_PRESSURE  \\\n",
       "0       1   69        1               2        2              1   \n",
       "1       1   74        2               1        1              1   \n",
       "2       2   59        1               1        1              2   \n",
       "3       1   63        2               2        2              1   \n",
       "4       2   63        1               2        1              1   \n",
       "\n",
       "   CHRONIC DISEASE  FATIGUE   ALLERGY   WHEEZING  ALCOHOL CONSUMING  COUGHING  \\\n",
       "0                1         2         1         2                  2         2   \n",
       "1                2         2         2         1                  1         1   \n",
       "2                1         2         1         2                  1         2   \n",
       "3                1         1         1         1                  2         1   \n",
       "4                1         1         1         2                  1         2   \n",
       "\n",
       "   SHORTNESS OF BREATH  SWALLOWING DIFFICULTY  CHEST PAIN  LUNG_CANCER  \n",
       "0                    2                      2           2            2  \n",
       "1                    2                      2           2            2  \n",
       "2                    2                      1           2            1  \n",
       "3                    1                      2           2            1  \n",
       "4                    2                      1           1            1  "
      ]
     },
     "execution_count": 11,
     "metadata": {},
     "output_type": "execute_result"
    }
   ],
   "source": [
    "df.head()"
   ]
  },
  {
   "cell_type": "markdown",
   "id": "10afa2d8",
   "metadata": {
    "papermill": {
     "duration": 0.013251,
     "end_time": "2022-07-30T04:03:45.907905",
     "exception": false,
     "start_time": "2022-07-30T04:03:45.894654",
     "status": "completed"
    },
    "tags": []
   },
   "source": [
    "**<span style=\"color:#cd486b;\"> Lets check for duplicated values</span>**"
   ]
  },
  {
   "cell_type": "code",
   "execution_count": 12,
   "id": "bacd5a47",
   "metadata": {
    "execution": {
     "iopub.execute_input": "2022-07-30T04:03:45.937400Z",
     "iopub.status.busy": "2022-07-30T04:03:45.936637Z",
     "iopub.status.idle": "2022-07-30T04:03:45.960021Z",
     "shell.execute_reply": "2022-07-30T04:03:45.958882Z"
    },
    "papermill": {
     "duration": 0.040884,
     "end_time": "2022-07-30T04:03:45.962331",
     "exception": false,
     "start_time": "2022-07-30T04:03:45.921447",
     "status": "completed"
    },
    "tags": []
   },
   "outputs": [
    {
     "data": {
      "text/html": [
       "<div>\n",
       "<style scoped>\n",
       "    .dataframe tbody tr th:only-of-type {\n",
       "        vertical-align: middle;\n",
       "    }\n",
       "\n",
       "    .dataframe tbody tr th {\n",
       "        vertical-align: top;\n",
       "    }\n",
       "\n",
       "    .dataframe thead th {\n",
       "        text-align: right;\n",
       "    }\n",
       "</style>\n",
       "<table border=\"1\" class=\"dataframe\">\n",
       "  <thead>\n",
       "    <tr style=\"text-align: right;\">\n",
       "      <th></th>\n",
       "      <th>GENDER</th>\n",
       "      <th>AGE</th>\n",
       "      <th>SMOKING</th>\n",
       "      <th>YELLOW_FINGERS</th>\n",
       "      <th>ANXIETY</th>\n",
       "      <th>PEER_PRESSURE</th>\n",
       "      <th>CHRONIC DISEASE</th>\n",
       "      <th>FATIGUE</th>\n",
       "      <th>ALLERGY</th>\n",
       "      <th>WHEEZING</th>\n",
       "      <th>ALCOHOL CONSUMING</th>\n",
       "      <th>COUGHING</th>\n",
       "      <th>SHORTNESS OF BREATH</th>\n",
       "      <th>SWALLOWING DIFFICULTY</th>\n",
       "      <th>CHEST PAIN</th>\n",
       "      <th>LUNG_CANCER</th>\n",
       "    </tr>\n",
       "  </thead>\n",
       "  <tbody>\n",
       "    <tr>\n",
       "      <th>99</th>\n",
       "      <td>1</td>\n",
       "      <td>56</td>\n",
       "      <td>2</td>\n",
       "      <td>1</td>\n",
       "      <td>1</td>\n",
       "      <td>1</td>\n",
       "      <td>1</td>\n",
       "      <td>2</td>\n",
       "      <td>2</td>\n",
       "      <td>2</td>\n",
       "      <td>2</td>\n",
       "      <td>2</td>\n",
       "      <td>2</td>\n",
       "      <td>1</td>\n",
       "      <td>2</td>\n",
       "      <td>2</td>\n",
       "    </tr>\n",
       "    <tr>\n",
       "      <th>100</th>\n",
       "      <td>1</td>\n",
       "      <td>58</td>\n",
       "      <td>2</td>\n",
       "      <td>1</td>\n",
       "      <td>1</td>\n",
       "      <td>1</td>\n",
       "      <td>1</td>\n",
       "      <td>1</td>\n",
       "      <td>2</td>\n",
       "      <td>2</td>\n",
       "      <td>2</td>\n",
       "      <td>2</td>\n",
       "      <td>1</td>\n",
       "      <td>1</td>\n",
       "      <td>1</td>\n",
       "      <td>2</td>\n",
       "    </tr>\n",
       "    <tr>\n",
       "      <th>117</th>\n",
       "      <td>2</td>\n",
       "      <td>51</td>\n",
       "      <td>2</td>\n",
       "      <td>2</td>\n",
       "      <td>2</td>\n",
       "      <td>2</td>\n",
       "      <td>1</td>\n",
       "      <td>2</td>\n",
       "      <td>2</td>\n",
       "      <td>1</td>\n",
       "      <td>1</td>\n",
       "      <td>1</td>\n",
       "      <td>2</td>\n",
       "      <td>2</td>\n",
       "      <td>1</td>\n",
       "      <td>2</td>\n",
       "    </tr>\n",
       "    <tr>\n",
       "      <th>199</th>\n",
       "      <td>2</td>\n",
       "      <td>55</td>\n",
       "      <td>2</td>\n",
       "      <td>1</td>\n",
       "      <td>1</td>\n",
       "      <td>2</td>\n",
       "      <td>2</td>\n",
       "      <td>2</td>\n",
       "      <td>2</td>\n",
       "      <td>2</td>\n",
       "      <td>2</td>\n",
       "      <td>1</td>\n",
       "      <td>1</td>\n",
       "      <td>2</td>\n",
       "      <td>2</td>\n",
       "      <td>2</td>\n",
       "    </tr>\n",
       "    <tr>\n",
       "      <th>212</th>\n",
       "      <td>1</td>\n",
       "      <td>58</td>\n",
       "      <td>2</td>\n",
       "      <td>1</td>\n",
       "      <td>1</td>\n",
       "      <td>1</td>\n",
       "      <td>1</td>\n",
       "      <td>2</td>\n",
       "      <td>2</td>\n",
       "      <td>2</td>\n",
       "      <td>2</td>\n",
       "      <td>2</td>\n",
       "      <td>2</td>\n",
       "      <td>1</td>\n",
       "      <td>2</td>\n",
       "      <td>2</td>\n",
       "    </tr>\n",
       "    <tr>\n",
       "      <th>223</th>\n",
       "      <td>1</td>\n",
       "      <td>63</td>\n",
       "      <td>2</td>\n",
       "      <td>2</td>\n",
       "      <td>2</td>\n",
       "      <td>1</td>\n",
       "      <td>2</td>\n",
       "      <td>2</td>\n",
       "      <td>2</td>\n",
       "      <td>2</td>\n",
       "      <td>1</td>\n",
       "      <td>1</td>\n",
       "      <td>2</td>\n",
       "      <td>1</td>\n",
       "      <td>1</td>\n",
       "      <td>2</td>\n",
       "    </tr>\n",
       "    <tr>\n",
       "      <th>256</th>\n",
       "      <td>1</td>\n",
       "      <td>60</td>\n",
       "      <td>2</td>\n",
       "      <td>1</td>\n",
       "      <td>1</td>\n",
       "      <td>1</td>\n",
       "      <td>1</td>\n",
       "      <td>2</td>\n",
       "      <td>2</td>\n",
       "      <td>2</td>\n",
       "      <td>2</td>\n",
       "      <td>2</td>\n",
       "      <td>2</td>\n",
       "      <td>1</td>\n",
       "      <td>2</td>\n",
       "      <td>2</td>\n",
       "    </tr>\n",
       "    <tr>\n",
       "      <th>275</th>\n",
       "      <td>1</td>\n",
       "      <td>64</td>\n",
       "      <td>2</td>\n",
       "      <td>2</td>\n",
       "      <td>2</td>\n",
       "      <td>2</td>\n",
       "      <td>2</td>\n",
       "      <td>1</td>\n",
       "      <td>1</td>\n",
       "      <td>1</td>\n",
       "      <td>2</td>\n",
       "      <td>1</td>\n",
       "      <td>1</td>\n",
       "      <td>2</td>\n",
       "      <td>2</td>\n",
       "      <td>2</td>\n",
       "    </tr>\n",
       "    <tr>\n",
       "      <th>284</th>\n",
       "      <td>1</td>\n",
       "      <td>58</td>\n",
       "      <td>2</td>\n",
       "      <td>2</td>\n",
       "      <td>2</td>\n",
       "      <td>2</td>\n",
       "      <td>2</td>\n",
       "      <td>1</td>\n",
       "      <td>1</td>\n",
       "      <td>1</td>\n",
       "      <td>2</td>\n",
       "      <td>1</td>\n",
       "      <td>1</td>\n",
       "      <td>2</td>\n",
       "      <td>2</td>\n",
       "      <td>2</td>\n",
       "    </tr>\n",
       "    <tr>\n",
       "      <th>285</th>\n",
       "      <td>2</td>\n",
       "      <td>58</td>\n",
       "      <td>2</td>\n",
       "      <td>2</td>\n",
       "      <td>2</td>\n",
       "      <td>2</td>\n",
       "      <td>1</td>\n",
       "      <td>2</td>\n",
       "      <td>1</td>\n",
       "      <td>1</td>\n",
       "      <td>1</td>\n",
       "      <td>2</td>\n",
       "      <td>2</td>\n",
       "      <td>2</td>\n",
       "      <td>1</td>\n",
       "      <td>2</td>\n",
       "    </tr>\n",
       "    <tr>\n",
       "      <th>286</th>\n",
       "      <td>2</td>\n",
       "      <td>63</td>\n",
       "      <td>1</td>\n",
       "      <td>1</td>\n",
       "      <td>1</td>\n",
       "      <td>1</td>\n",
       "      <td>2</td>\n",
       "      <td>2</td>\n",
       "      <td>1</td>\n",
       "      <td>1</td>\n",
       "      <td>1</td>\n",
       "      <td>1</td>\n",
       "      <td>2</td>\n",
       "      <td>1</td>\n",
       "      <td>1</td>\n",
       "      <td>1</td>\n",
       "    </tr>\n",
       "    <tr>\n",
       "      <th>287</th>\n",
       "      <td>2</td>\n",
       "      <td>51</td>\n",
       "      <td>2</td>\n",
       "      <td>2</td>\n",
       "      <td>2</td>\n",
       "      <td>2</td>\n",
       "      <td>1</td>\n",
       "      <td>2</td>\n",
       "      <td>1</td>\n",
       "      <td>1</td>\n",
       "      <td>1</td>\n",
       "      <td>1</td>\n",
       "      <td>2</td>\n",
       "      <td>2</td>\n",
       "      <td>1</td>\n",
       "      <td>2</td>\n",
       "    </tr>\n",
       "    <tr>\n",
       "      <th>288</th>\n",
       "      <td>2</td>\n",
       "      <td>61</td>\n",
       "      <td>1</td>\n",
       "      <td>2</td>\n",
       "      <td>2</td>\n",
       "      <td>2</td>\n",
       "      <td>1</td>\n",
       "      <td>1</td>\n",
       "      <td>2</td>\n",
       "      <td>2</td>\n",
       "      <td>1</td>\n",
       "      <td>2</td>\n",
       "      <td>1</td>\n",
       "      <td>2</td>\n",
       "      <td>1</td>\n",
       "      <td>2</td>\n",
       "    </tr>\n",
       "    <tr>\n",
       "      <th>289</th>\n",
       "      <td>2</td>\n",
       "      <td>61</td>\n",
       "      <td>2</td>\n",
       "      <td>1</td>\n",
       "      <td>1</td>\n",
       "      <td>1</td>\n",
       "      <td>2</td>\n",
       "      <td>2</td>\n",
       "      <td>2</td>\n",
       "      <td>1</td>\n",
       "      <td>1</td>\n",
       "      <td>1</td>\n",
       "      <td>2</td>\n",
       "      <td>1</td>\n",
       "      <td>1</td>\n",
       "      <td>2</td>\n",
       "    </tr>\n",
       "    <tr>\n",
       "      <th>290</th>\n",
       "      <td>1</td>\n",
       "      <td>76</td>\n",
       "      <td>2</td>\n",
       "      <td>1</td>\n",
       "      <td>1</td>\n",
       "      <td>1</td>\n",
       "      <td>1</td>\n",
       "      <td>2</td>\n",
       "      <td>2</td>\n",
       "      <td>2</td>\n",
       "      <td>2</td>\n",
       "      <td>2</td>\n",
       "      <td>2</td>\n",
       "      <td>1</td>\n",
       "      <td>2</td>\n",
       "      <td>2</td>\n",
       "    </tr>\n",
       "    <tr>\n",
       "      <th>291</th>\n",
       "      <td>1</td>\n",
       "      <td>71</td>\n",
       "      <td>2</td>\n",
       "      <td>2</td>\n",
       "      <td>2</td>\n",
       "      <td>1</td>\n",
       "      <td>2</td>\n",
       "      <td>1</td>\n",
       "      <td>2</td>\n",
       "      <td>2</td>\n",
       "      <td>2</td>\n",
       "      <td>2</td>\n",
       "      <td>1</td>\n",
       "      <td>2</td>\n",
       "      <td>2</td>\n",
       "      <td>2</td>\n",
       "    </tr>\n",
       "    <tr>\n",
       "      <th>292</th>\n",
       "      <td>1</td>\n",
       "      <td>69</td>\n",
       "      <td>1</td>\n",
       "      <td>1</td>\n",
       "      <td>2</td>\n",
       "      <td>1</td>\n",
       "      <td>1</td>\n",
       "      <td>2</td>\n",
       "      <td>1</td>\n",
       "      <td>2</td>\n",
       "      <td>2</td>\n",
       "      <td>2</td>\n",
       "      <td>2</td>\n",
       "      <td>2</td>\n",
       "      <td>1</td>\n",
       "      <td>2</td>\n",
       "    </tr>\n",
       "    <tr>\n",
       "      <th>293</th>\n",
       "      <td>2</td>\n",
       "      <td>56</td>\n",
       "      <td>2</td>\n",
       "      <td>2</td>\n",
       "      <td>2</td>\n",
       "      <td>1</td>\n",
       "      <td>1</td>\n",
       "      <td>2</td>\n",
       "      <td>2</td>\n",
       "      <td>1</td>\n",
       "      <td>1</td>\n",
       "      <td>1</td>\n",
       "      <td>2</td>\n",
       "      <td>1</td>\n",
       "      <td>2</td>\n",
       "      <td>2</td>\n",
       "    </tr>\n",
       "    <tr>\n",
       "      <th>294</th>\n",
       "      <td>1</td>\n",
       "      <td>67</td>\n",
       "      <td>1</td>\n",
       "      <td>1</td>\n",
       "      <td>1</td>\n",
       "      <td>2</td>\n",
       "      <td>1</td>\n",
       "      <td>2</td>\n",
       "      <td>1</td>\n",
       "      <td>2</td>\n",
       "      <td>1</td>\n",
       "      <td>2</td>\n",
       "      <td>2</td>\n",
       "      <td>1</td>\n",
       "      <td>2</td>\n",
       "      <td>2</td>\n",
       "    </tr>\n",
       "    <tr>\n",
       "      <th>295</th>\n",
       "      <td>2</td>\n",
       "      <td>54</td>\n",
       "      <td>2</td>\n",
       "      <td>2</td>\n",
       "      <td>2</td>\n",
       "      <td>1</td>\n",
       "      <td>2</td>\n",
       "      <td>1</td>\n",
       "      <td>1</td>\n",
       "      <td>2</td>\n",
       "      <td>2</td>\n",
       "      <td>1</td>\n",
       "      <td>2</td>\n",
       "      <td>2</td>\n",
       "      <td>2</td>\n",
       "      <td>2</td>\n",
       "    </tr>\n",
       "    <tr>\n",
       "      <th>296</th>\n",
       "      <td>1</td>\n",
       "      <td>63</td>\n",
       "      <td>1</td>\n",
       "      <td>2</td>\n",
       "      <td>1</td>\n",
       "      <td>1</td>\n",
       "      <td>1</td>\n",
       "      <td>2</td>\n",
       "      <td>1</td>\n",
       "      <td>2</td>\n",
       "      <td>2</td>\n",
       "      <td>2</td>\n",
       "      <td>2</td>\n",
       "      <td>1</td>\n",
       "      <td>1</td>\n",
       "      <td>2</td>\n",
       "    </tr>\n",
       "    <tr>\n",
       "      <th>297</th>\n",
       "      <td>2</td>\n",
       "      <td>47</td>\n",
       "      <td>2</td>\n",
       "      <td>2</td>\n",
       "      <td>1</td>\n",
       "      <td>2</td>\n",
       "      <td>2</td>\n",
       "      <td>2</td>\n",
       "      <td>2</td>\n",
       "      <td>2</td>\n",
       "      <td>1</td>\n",
       "      <td>2</td>\n",
       "      <td>2</td>\n",
       "      <td>1</td>\n",
       "      <td>1</td>\n",
       "      <td>2</td>\n",
       "    </tr>\n",
       "    <tr>\n",
       "      <th>298</th>\n",
       "      <td>1</td>\n",
       "      <td>62</td>\n",
       "      <td>2</td>\n",
       "      <td>1</td>\n",
       "      <td>2</td>\n",
       "      <td>1</td>\n",
       "      <td>1</td>\n",
       "      <td>2</td>\n",
       "      <td>1</td>\n",
       "      <td>2</td>\n",
       "      <td>2</td>\n",
       "      <td>2</td>\n",
       "      <td>2</td>\n",
       "      <td>1</td>\n",
       "      <td>2</td>\n",
       "      <td>2</td>\n",
       "    </tr>\n",
       "    <tr>\n",
       "      <th>299</th>\n",
       "      <td>1</td>\n",
       "      <td>65</td>\n",
       "      <td>2</td>\n",
       "      <td>2</td>\n",
       "      <td>2</td>\n",
       "      <td>2</td>\n",
       "      <td>1</td>\n",
       "      <td>2</td>\n",
       "      <td>2</td>\n",
       "      <td>1</td>\n",
       "      <td>1</td>\n",
       "      <td>1</td>\n",
       "      <td>2</td>\n",
       "      <td>2</td>\n",
       "      <td>1</td>\n",
       "      <td>2</td>\n",
       "    </tr>\n",
       "    <tr>\n",
       "      <th>300</th>\n",
       "      <td>2</td>\n",
       "      <td>63</td>\n",
       "      <td>2</td>\n",
       "      <td>2</td>\n",
       "      <td>2</td>\n",
       "      <td>2</td>\n",
       "      <td>2</td>\n",
       "      <td>2</td>\n",
       "      <td>2</td>\n",
       "      <td>2</td>\n",
       "      <td>1</td>\n",
       "      <td>2</td>\n",
       "      <td>2</td>\n",
       "      <td>2</td>\n",
       "      <td>2</td>\n",
       "      <td>2</td>\n",
       "    </tr>\n",
       "    <tr>\n",
       "      <th>301</th>\n",
       "      <td>1</td>\n",
       "      <td>64</td>\n",
       "      <td>1</td>\n",
       "      <td>2</td>\n",
       "      <td>2</td>\n",
       "      <td>2</td>\n",
       "      <td>1</td>\n",
       "      <td>1</td>\n",
       "      <td>2</td>\n",
       "      <td>1</td>\n",
       "      <td>2</td>\n",
       "      <td>1</td>\n",
       "      <td>1</td>\n",
       "      <td>2</td>\n",
       "      <td>2</td>\n",
       "      <td>2</td>\n",
       "    </tr>\n",
       "    <tr>\n",
       "      <th>302</th>\n",
       "      <td>2</td>\n",
       "      <td>65</td>\n",
       "      <td>2</td>\n",
       "      <td>2</td>\n",
       "      <td>2</td>\n",
       "      <td>2</td>\n",
       "      <td>1</td>\n",
       "      <td>2</td>\n",
       "      <td>1</td>\n",
       "      <td>2</td>\n",
       "      <td>1</td>\n",
       "      <td>2</td>\n",
       "      <td>2</td>\n",
       "      <td>2</td>\n",
       "      <td>1</td>\n",
       "      <td>2</td>\n",
       "    </tr>\n",
       "    <tr>\n",
       "      <th>303</th>\n",
       "      <td>1</td>\n",
       "      <td>51</td>\n",
       "      <td>1</td>\n",
       "      <td>2</td>\n",
       "      <td>1</td>\n",
       "      <td>1</td>\n",
       "      <td>2</td>\n",
       "      <td>2</td>\n",
       "      <td>2</td>\n",
       "      <td>2</td>\n",
       "      <td>2</td>\n",
       "      <td>2</td>\n",
       "      <td>2</td>\n",
       "      <td>1</td>\n",
       "      <td>2</td>\n",
       "      <td>2</td>\n",
       "    </tr>\n",
       "    <tr>\n",
       "      <th>304</th>\n",
       "      <td>2</td>\n",
       "      <td>56</td>\n",
       "      <td>1</td>\n",
       "      <td>1</td>\n",
       "      <td>1</td>\n",
       "      <td>2</td>\n",
       "      <td>2</td>\n",
       "      <td>2</td>\n",
       "      <td>1</td>\n",
       "      <td>1</td>\n",
       "      <td>2</td>\n",
       "      <td>2</td>\n",
       "      <td>2</td>\n",
       "      <td>2</td>\n",
       "      <td>1</td>\n",
       "      <td>2</td>\n",
       "    </tr>\n",
       "    <tr>\n",
       "      <th>305</th>\n",
       "      <td>1</td>\n",
       "      <td>70</td>\n",
       "      <td>2</td>\n",
       "      <td>1</td>\n",
       "      <td>1</td>\n",
       "      <td>1</td>\n",
       "      <td>1</td>\n",
       "      <td>2</td>\n",
       "      <td>2</td>\n",
       "      <td>2</td>\n",
       "      <td>2</td>\n",
       "      <td>2</td>\n",
       "      <td>2</td>\n",
       "      <td>1</td>\n",
       "      <td>2</td>\n",
       "      <td>2</td>\n",
       "    </tr>\n",
       "    <tr>\n",
       "      <th>306</th>\n",
       "      <td>1</td>\n",
       "      <td>58</td>\n",
       "      <td>2</td>\n",
       "      <td>1</td>\n",
       "      <td>1</td>\n",
       "      <td>1</td>\n",
       "      <td>1</td>\n",
       "      <td>1</td>\n",
       "      <td>2</td>\n",
       "      <td>2</td>\n",
       "      <td>2</td>\n",
       "      <td>2</td>\n",
       "      <td>1</td>\n",
       "      <td>1</td>\n",
       "      <td>2</td>\n",
       "      <td>2</td>\n",
       "    </tr>\n",
       "    <tr>\n",
       "      <th>307</th>\n",
       "      <td>1</td>\n",
       "      <td>67</td>\n",
       "      <td>2</td>\n",
       "      <td>1</td>\n",
       "      <td>2</td>\n",
       "      <td>1</td>\n",
       "      <td>1</td>\n",
       "      <td>2</td>\n",
       "      <td>2</td>\n",
       "      <td>1</td>\n",
       "      <td>2</td>\n",
       "      <td>2</td>\n",
       "      <td>2</td>\n",
       "      <td>1</td>\n",
       "      <td>2</td>\n",
       "      <td>2</td>\n",
       "    </tr>\n",
       "    <tr>\n",
       "      <th>308</th>\n",
       "      <td>1</td>\n",
       "      <td>62</td>\n",
       "      <td>1</td>\n",
       "      <td>1</td>\n",
       "      <td>1</td>\n",
       "      <td>2</td>\n",
       "      <td>1</td>\n",
       "      <td>2</td>\n",
       "      <td>2</td>\n",
       "      <td>2</td>\n",
       "      <td>2</td>\n",
       "      <td>1</td>\n",
       "      <td>1</td>\n",
       "      <td>2</td>\n",
       "      <td>1</td>\n",
       "      <td>2</td>\n",
       "    </tr>\n",
       "  </tbody>\n",
       "</table>\n",
       "</div>"
      ],
      "text/plain": [
       "     GENDER  AGE  SMOKING  YELLOW_FINGERS  ANXIETY  PEER_PRESSURE  \\\n",
       "99        1   56        2               1        1              1   \n",
       "100       1   58        2               1        1              1   \n",
       "117       2   51        2               2        2              2   \n",
       "199       2   55        2               1        1              2   \n",
       "212       1   58        2               1        1              1   \n",
       "223       1   63        2               2        2              1   \n",
       "256       1   60        2               1        1              1   \n",
       "275       1   64        2               2        2              2   \n",
       "284       1   58        2               2        2              2   \n",
       "285       2   58        2               2        2              2   \n",
       "286       2   63        1               1        1              1   \n",
       "287       2   51        2               2        2              2   \n",
       "288       2   61        1               2        2              2   \n",
       "289       2   61        2               1        1              1   \n",
       "290       1   76        2               1        1              1   \n",
       "291       1   71        2               2        2              1   \n",
       "292       1   69        1               1        2              1   \n",
       "293       2   56        2               2        2              1   \n",
       "294       1   67        1               1        1              2   \n",
       "295       2   54        2               2        2              1   \n",
       "296       1   63        1               2        1              1   \n",
       "297       2   47        2               2        1              2   \n",
       "298       1   62        2               1        2              1   \n",
       "299       1   65        2               2        2              2   \n",
       "300       2   63        2               2        2              2   \n",
       "301       1   64        1               2        2              2   \n",
       "302       2   65        2               2        2              2   \n",
       "303       1   51        1               2        1              1   \n",
       "304       2   56        1               1        1              2   \n",
       "305       1   70        2               1        1              1   \n",
       "306       1   58        2               1        1              1   \n",
       "307       1   67        2               1        2              1   \n",
       "308       1   62        1               1        1              2   \n",
       "\n",
       "     CHRONIC DISEASE  FATIGUE   ALLERGY   WHEEZING  ALCOHOL CONSUMING  \\\n",
       "99                 1         2         2         2                  2   \n",
       "100                1         1         2         2                  2   \n",
       "117                1         2         2         1                  1   \n",
       "199                2         2         2         2                  2   \n",
       "212                1         2         2         2                  2   \n",
       "223                2         2         2         2                  1   \n",
       "256                1         2         2         2                  2   \n",
       "275                2         1         1         1                  2   \n",
       "284                2         1         1         1                  2   \n",
       "285                1         2         1         1                  1   \n",
       "286                2         2         1         1                  1   \n",
       "287                1         2         1         1                  1   \n",
       "288                1         1         2         2                  1   \n",
       "289                2         2         2         1                  1   \n",
       "290                1         2         2         2                  2   \n",
       "291                2         1         2         2                  2   \n",
       "292                1         2         1         2                  2   \n",
       "293                1         2         2         1                  1   \n",
       "294                1         2         1         2                  1   \n",
       "295                2         1         1         2                  2   \n",
       "296                1         2         1         2                  2   \n",
       "297                2         2         2         2                  1   \n",
       "298                1         2         1         2                  2   \n",
       "299                1         2         2         1                  1   \n",
       "300                2         2         2         2                  1   \n",
       "301                1         1         2         1                  2   \n",
       "302                1         2         1         2                  1   \n",
       "303                2         2         2         2                  2   \n",
       "304                2         2         1         1                  2   \n",
       "305                1         2         2         2                  2   \n",
       "306                1         1         2         2                  2   \n",
       "307                1         2         2         1                  2   \n",
       "308                1         2         2         2                  2   \n",
       "\n",
       "     COUGHING  SHORTNESS OF BREATH  SWALLOWING DIFFICULTY  CHEST PAIN  \\\n",
       "99          2                    2                      1           2   \n",
       "100         2                    1                      1           1   \n",
       "117         1                    2                      2           1   \n",
       "199         1                    1                      2           2   \n",
       "212         2                    2                      1           2   \n",
       "223         1                    2                      1           1   \n",
       "256         2                    2                      1           2   \n",
       "275         1                    1                      2           2   \n",
       "284         1                    1                      2           2   \n",
       "285         2                    2                      2           1   \n",
       "286         1                    2                      1           1   \n",
       "287         1                    2                      2           1   \n",
       "288         2                    1                      2           1   \n",
       "289         1                    2                      1           1   \n",
       "290         2                    2                      1           2   \n",
       "291         2                    1                      2           2   \n",
       "292         2                    2                      2           1   \n",
       "293         1                    2                      1           2   \n",
       "294         2                    2                      1           2   \n",
       "295         1                    2                      2           2   \n",
       "296         2                    2                      1           1   \n",
       "297         2                    2                      1           1   \n",
       "298         2                    2                      1           2   \n",
       "299         1                    2                      2           1   \n",
       "300         2                    2                      2           2   \n",
       "301         1                    1                      2           2   \n",
       "302         2                    2                      2           1   \n",
       "303         2                    2                      1           2   \n",
       "304         2                    2                      2           1   \n",
       "305         2                    2                      1           2   \n",
       "306         2                    1                      1           2   \n",
       "307         2                    2                      1           2   \n",
       "308         1                    1                      2           1   \n",
       "\n",
       "     LUNG_CANCER  \n",
       "99             2  \n",
       "100            2  \n",
       "117            2  \n",
       "199            2  \n",
       "212            2  \n",
       "223            2  \n",
       "256            2  \n",
       "275            2  \n",
       "284            2  \n",
       "285            2  \n",
       "286            1  \n",
       "287            2  \n",
       "288            2  \n",
       "289            2  \n",
       "290            2  \n",
       "291            2  \n",
       "292            2  \n",
       "293            2  \n",
       "294            2  \n",
       "295            2  \n",
       "296            2  \n",
       "297            2  \n",
       "298            2  \n",
       "299            2  \n",
       "300            2  \n",
       "301            2  \n",
       "302            2  \n",
       "303            2  \n",
       "304            2  \n",
       "305            2  \n",
       "306            2  \n",
       "307            2  \n",
       "308            2  "
      ]
     },
     "execution_count": 12,
     "metadata": {},
     "output_type": "execute_result"
    }
   ],
   "source": [
    "df[df.duplicated()]"
   ]
  },
  {
   "cell_type": "code",
   "execution_count": 13,
   "id": "3b47f04f",
   "metadata": {
    "execution": {
     "iopub.execute_input": "2022-07-30T04:03:45.994315Z",
     "iopub.status.busy": "2022-07-30T04:03:45.993555Z",
     "iopub.status.idle": "2022-07-30T04:03:46.012989Z",
     "shell.execute_reply": "2022-07-30T04:03:46.011745Z"
    },
    "papermill": {
     "duration": 0.038017,
     "end_time": "2022-07-30T04:03:46.015286",
     "exception": false,
     "start_time": "2022-07-30T04:03:45.977269",
     "status": "completed"
    },
    "tags": []
   },
   "outputs": [
    {
     "data": {
      "text/html": [
       "<div>\n",
       "<style scoped>\n",
       "    .dataframe tbody tr th:only-of-type {\n",
       "        vertical-align: middle;\n",
       "    }\n",
       "\n",
       "    .dataframe tbody tr th {\n",
       "        vertical-align: top;\n",
       "    }\n",
       "\n",
       "    .dataframe thead th {\n",
       "        text-align: right;\n",
       "    }\n",
       "</style>\n",
       "<table border=\"1\" class=\"dataframe\">\n",
       "  <thead>\n",
       "    <tr style=\"text-align: right;\">\n",
       "      <th></th>\n",
       "      <th>GENDER</th>\n",
       "      <th>AGE</th>\n",
       "      <th>SMOKING</th>\n",
       "      <th>YELLOW_FINGERS</th>\n",
       "      <th>ANXIETY</th>\n",
       "      <th>PEER_PRESSURE</th>\n",
       "      <th>CHRONIC DISEASE</th>\n",
       "      <th>FATIGUE</th>\n",
       "      <th>ALLERGY</th>\n",
       "      <th>WHEEZING</th>\n",
       "      <th>ALCOHOL CONSUMING</th>\n",
       "      <th>COUGHING</th>\n",
       "      <th>SHORTNESS OF BREATH</th>\n",
       "      <th>SWALLOWING DIFFICULTY</th>\n",
       "      <th>CHEST PAIN</th>\n",
       "      <th>LUNG_CANCER</th>\n",
       "    </tr>\n",
       "  </thead>\n",
       "  <tbody>\n",
       "    <tr>\n",
       "      <th>0</th>\n",
       "      <td>1</td>\n",
       "      <td>69</td>\n",
       "      <td>1</td>\n",
       "      <td>2</td>\n",
       "      <td>2</td>\n",
       "      <td>1</td>\n",
       "      <td>1</td>\n",
       "      <td>2</td>\n",
       "      <td>1</td>\n",
       "      <td>2</td>\n",
       "      <td>2</td>\n",
       "      <td>2</td>\n",
       "      <td>2</td>\n",
       "      <td>2</td>\n",
       "      <td>2</td>\n",
       "      <td>2</td>\n",
       "    </tr>\n",
       "    <tr>\n",
       "      <th>1</th>\n",
       "      <td>1</td>\n",
       "      <td>74</td>\n",
       "      <td>2</td>\n",
       "      <td>1</td>\n",
       "      <td>1</td>\n",
       "      <td>1</td>\n",
       "      <td>2</td>\n",
       "      <td>2</td>\n",
       "      <td>2</td>\n",
       "      <td>1</td>\n",
       "      <td>1</td>\n",
       "      <td>1</td>\n",
       "      <td>2</td>\n",
       "      <td>2</td>\n",
       "      <td>2</td>\n",
       "      <td>2</td>\n",
       "    </tr>\n",
       "    <tr>\n",
       "      <th>2</th>\n",
       "      <td>2</td>\n",
       "      <td>59</td>\n",
       "      <td>1</td>\n",
       "      <td>1</td>\n",
       "      <td>1</td>\n",
       "      <td>2</td>\n",
       "      <td>1</td>\n",
       "      <td>2</td>\n",
       "      <td>1</td>\n",
       "      <td>2</td>\n",
       "      <td>1</td>\n",
       "      <td>2</td>\n",
       "      <td>2</td>\n",
       "      <td>1</td>\n",
       "      <td>2</td>\n",
       "      <td>1</td>\n",
       "    </tr>\n",
       "    <tr>\n",
       "      <th>3</th>\n",
       "      <td>1</td>\n",
       "      <td>63</td>\n",
       "      <td>2</td>\n",
       "      <td>2</td>\n",
       "      <td>2</td>\n",
       "      <td>1</td>\n",
       "      <td>1</td>\n",
       "      <td>1</td>\n",
       "      <td>1</td>\n",
       "      <td>1</td>\n",
       "      <td>2</td>\n",
       "      <td>1</td>\n",
       "      <td>1</td>\n",
       "      <td>2</td>\n",
       "      <td>2</td>\n",
       "      <td>1</td>\n",
       "    </tr>\n",
       "    <tr>\n",
       "      <th>4</th>\n",
       "      <td>2</td>\n",
       "      <td>63</td>\n",
       "      <td>1</td>\n",
       "      <td>2</td>\n",
       "      <td>1</td>\n",
       "      <td>1</td>\n",
       "      <td>1</td>\n",
       "      <td>1</td>\n",
       "      <td>1</td>\n",
       "      <td>2</td>\n",
       "      <td>1</td>\n",
       "      <td>2</td>\n",
       "      <td>2</td>\n",
       "      <td>1</td>\n",
       "      <td>1</td>\n",
       "      <td>1</td>\n",
       "    </tr>\n",
       "    <tr>\n",
       "      <th>...</th>\n",
       "      <td>...</td>\n",
       "      <td>...</td>\n",
       "      <td>...</td>\n",
       "      <td>...</td>\n",
       "      <td>...</td>\n",
       "      <td>...</td>\n",
       "      <td>...</td>\n",
       "      <td>...</td>\n",
       "      <td>...</td>\n",
       "      <td>...</td>\n",
       "      <td>...</td>\n",
       "      <td>...</td>\n",
       "      <td>...</td>\n",
       "      <td>...</td>\n",
       "      <td>...</td>\n",
       "      <td>...</td>\n",
       "    </tr>\n",
       "    <tr>\n",
       "      <th>279</th>\n",
       "      <td>2</td>\n",
       "      <td>59</td>\n",
       "      <td>1</td>\n",
       "      <td>2</td>\n",
       "      <td>2</td>\n",
       "      <td>2</td>\n",
       "      <td>1</td>\n",
       "      <td>1</td>\n",
       "      <td>2</td>\n",
       "      <td>2</td>\n",
       "      <td>1</td>\n",
       "      <td>2</td>\n",
       "      <td>1</td>\n",
       "      <td>2</td>\n",
       "      <td>1</td>\n",
       "      <td>2</td>\n",
       "    </tr>\n",
       "    <tr>\n",
       "      <th>280</th>\n",
       "      <td>2</td>\n",
       "      <td>59</td>\n",
       "      <td>2</td>\n",
       "      <td>1</td>\n",
       "      <td>1</td>\n",
       "      <td>1</td>\n",
       "      <td>2</td>\n",
       "      <td>2</td>\n",
       "      <td>2</td>\n",
       "      <td>1</td>\n",
       "      <td>1</td>\n",
       "      <td>1</td>\n",
       "      <td>2</td>\n",
       "      <td>1</td>\n",
       "      <td>1</td>\n",
       "      <td>1</td>\n",
       "    </tr>\n",
       "    <tr>\n",
       "      <th>281</th>\n",
       "      <td>1</td>\n",
       "      <td>55</td>\n",
       "      <td>2</td>\n",
       "      <td>1</td>\n",
       "      <td>1</td>\n",
       "      <td>1</td>\n",
       "      <td>1</td>\n",
       "      <td>2</td>\n",
       "      <td>2</td>\n",
       "      <td>1</td>\n",
       "      <td>1</td>\n",
       "      <td>1</td>\n",
       "      <td>2</td>\n",
       "      <td>1</td>\n",
       "      <td>2</td>\n",
       "      <td>1</td>\n",
       "    </tr>\n",
       "    <tr>\n",
       "      <th>282</th>\n",
       "      <td>1</td>\n",
       "      <td>46</td>\n",
       "      <td>1</td>\n",
       "      <td>2</td>\n",
       "      <td>2</td>\n",
       "      <td>1</td>\n",
       "      <td>1</td>\n",
       "      <td>1</td>\n",
       "      <td>1</td>\n",
       "      <td>1</td>\n",
       "      <td>1</td>\n",
       "      <td>1</td>\n",
       "      <td>1</td>\n",
       "      <td>2</td>\n",
       "      <td>2</td>\n",
       "      <td>1</td>\n",
       "    </tr>\n",
       "    <tr>\n",
       "      <th>283</th>\n",
       "      <td>1</td>\n",
       "      <td>60</td>\n",
       "      <td>1</td>\n",
       "      <td>2</td>\n",
       "      <td>2</td>\n",
       "      <td>1</td>\n",
       "      <td>1</td>\n",
       "      <td>2</td>\n",
       "      <td>1</td>\n",
       "      <td>2</td>\n",
       "      <td>2</td>\n",
       "      <td>2</td>\n",
       "      <td>2</td>\n",
       "      <td>2</td>\n",
       "      <td>2</td>\n",
       "      <td>2</td>\n",
       "    </tr>\n",
       "  </tbody>\n",
       "</table>\n",
       "<p>276 rows × 16 columns</p>\n",
       "</div>"
      ],
      "text/plain": [
       "     GENDER  AGE  SMOKING  YELLOW_FINGERS  ANXIETY  PEER_PRESSURE  \\\n",
       "0         1   69        1               2        2              1   \n",
       "1         1   74        2               1        1              1   \n",
       "2         2   59        1               1        1              2   \n",
       "3         1   63        2               2        2              1   \n",
       "4         2   63        1               2        1              1   \n",
       "..      ...  ...      ...             ...      ...            ...   \n",
       "279       2   59        1               2        2              2   \n",
       "280       2   59        2               1        1              1   \n",
       "281       1   55        2               1        1              1   \n",
       "282       1   46        1               2        2              1   \n",
       "283       1   60        1               2        2              1   \n",
       "\n",
       "     CHRONIC DISEASE  FATIGUE   ALLERGY   WHEEZING  ALCOHOL CONSUMING  \\\n",
       "0                  1         2         1         2                  2   \n",
       "1                  2         2         2         1                  1   \n",
       "2                  1         2         1         2                  1   \n",
       "3                  1         1         1         1                  2   \n",
       "4                  1         1         1         2                  1   \n",
       "..               ...       ...       ...       ...                ...   \n",
       "279                1         1         2         2                  1   \n",
       "280                2         2         2         1                  1   \n",
       "281                1         2         2         1                  1   \n",
       "282                1         1         1         1                  1   \n",
       "283                1         2         1         2                  2   \n",
       "\n",
       "     COUGHING  SHORTNESS OF BREATH  SWALLOWING DIFFICULTY  CHEST PAIN  \\\n",
       "0           2                    2                      2           2   \n",
       "1           1                    2                      2           2   \n",
       "2           2                    2                      1           2   \n",
       "3           1                    1                      2           2   \n",
       "4           2                    2                      1           1   \n",
       "..        ...                  ...                    ...         ...   \n",
       "279         2                    1                      2           1   \n",
       "280         1                    2                      1           1   \n",
       "281         1                    2                      1           2   \n",
       "282         1                    1                      2           2   \n",
       "283         2                    2                      2           2   \n",
       "\n",
       "     LUNG_CANCER  \n",
       "0              2  \n",
       "1              2  \n",
       "2              1  \n",
       "3              1  \n",
       "4              1  \n",
       "..           ...  \n",
       "279            2  \n",
       "280            1  \n",
       "281            1  \n",
       "282            1  \n",
       "283            2  \n",
       "\n",
       "[276 rows x 16 columns]"
      ]
     },
     "execution_count": 13,
     "metadata": {},
     "output_type": "execute_result"
    }
   ],
   "source": [
    "df.drop_duplicates()"
   ]
  },
  {
   "cell_type": "markdown",
   "id": "6dc5be8f",
   "metadata": {
    "papermill": {
     "duration": 0.014931,
     "end_time": "2022-07-30T04:03:46.045571",
     "exception": false,
     "start_time": "2022-07-30T04:03:46.030640",
     "status": "completed"
    },
    "tags": []
   },
   "source": [
    "## **<span style=\"color:#cd486b;\">🪓 Let's split the dataset</span>**"
   ]
  },
  {
   "cell_type": "code",
   "execution_count": 14,
   "id": "a16ba0d6",
   "metadata": {
    "execution": {
     "iopub.execute_input": "2022-07-30T04:03:46.078986Z",
     "iopub.status.busy": "2022-07-30T04:03:46.077966Z",
     "iopub.status.idle": "2022-07-30T04:03:46.083757Z",
     "shell.execute_reply": "2022-07-30T04:03:46.082861Z"
    },
    "papermill": {
     "duration": 0.025251,
     "end_time": "2022-07-30T04:03:46.086030",
     "exception": false,
     "start_time": "2022-07-30T04:03:46.060779",
     "status": "completed"
    },
    "tags": []
   },
   "outputs": [],
   "source": [
    "X = df.iloc[:,:-1]\n",
    "y = df['LUNG_CANCER']  "
   ]
  },
  {
   "cell_type": "code",
   "execution_count": 15,
   "id": "0ba2646d",
   "metadata": {
    "execution": {
     "iopub.execute_input": "2022-07-30T04:03:46.123502Z",
     "iopub.status.busy": "2022-07-30T04:03:46.123128Z",
     "iopub.status.idle": "2022-07-30T04:03:46.128459Z",
     "shell.execute_reply": "2022-07-30T04:03:46.127600Z"
    },
    "papermill": {
     "duration": 0.025954,
     "end_time": "2022-07-30T04:03:46.130427",
     "exception": false,
     "start_time": "2022-07-30T04:03:46.104473",
     "status": "completed"
    },
    "tags": []
   },
   "outputs": [
    {
     "data": {
      "text/plain": [
       "(309, 15)"
      ]
     },
     "execution_count": 15,
     "metadata": {},
     "output_type": "execute_result"
    }
   ],
   "source": [
    "X.shape"
   ]
  },
  {
   "cell_type": "code",
   "execution_count": 16,
   "id": "261d8b34",
   "metadata": {
    "execution": {
     "iopub.execute_input": "2022-07-30T04:03:46.163874Z",
     "iopub.status.busy": "2022-07-30T04:03:46.163490Z",
     "iopub.status.idle": "2022-07-30T04:03:46.169695Z",
     "shell.execute_reply": "2022-07-30T04:03:46.168833Z"
    },
    "papermill": {
     "duration": 0.024824,
     "end_time": "2022-07-30T04:03:46.171491",
     "exception": false,
     "start_time": "2022-07-30T04:03:46.146667",
     "status": "completed"
    },
    "tags": []
   },
   "outputs": [
    {
     "data": {
      "text/plain": [
       "(309,)"
      ]
     },
     "execution_count": 16,
     "metadata": {},
     "output_type": "execute_result"
    }
   ],
   "source": [
    "y.shape"
   ]
  },
  {
   "cell_type": "code",
   "execution_count": 17,
   "id": "e5017cf5",
   "metadata": {
    "execution": {
     "iopub.execute_input": "2022-07-30T04:03:46.204172Z",
     "iopub.status.busy": "2022-07-30T04:03:46.203429Z",
     "iopub.status.idle": "2022-07-30T04:03:46.213780Z",
     "shell.execute_reply": "2022-07-30T04:03:46.212885Z"
    },
    "papermill": {
     "duration": 0.029337,
     "end_time": "2022-07-30T04:03:46.215941",
     "exception": false,
     "start_time": "2022-07-30T04:03:46.186604",
     "status": "completed"
    },
    "tags": []
   },
   "outputs": [],
   "source": [
    "#Split the data into train and test set (approx 80/20)\n",
    "X_train, X_test, y_train, y_test = train_test_split(X, y, random_state = 42, test_size = 0.2, stratify = y)"
   ]
  },
  {
   "cell_type": "markdown",
   "id": "bc216a97",
   "metadata": {
    "papermill": {
     "duration": 0.014686,
     "end_time": "2022-07-30T04:03:46.245651",
     "exception": false,
     "start_time": "2022-07-30T04:03:46.230965",
     "status": "completed"
    },
    "tags": []
   },
   "source": [
    "## **<span style=\"color:#cd486b;\">⚖ Scaling Data</span>**\n",
    "\n",
    "**<span style=\"color:#FFC72C;\">Since, all value points do not lie in same range, lets scale the data first</span>**"
   ]
  },
  {
   "cell_type": "code",
   "execution_count": 18,
   "id": "04dd3aaf",
   "metadata": {
    "execution": {
     "iopub.execute_input": "2022-07-30T04:03:46.278103Z",
     "iopub.status.busy": "2022-07-30T04:03:46.277377Z",
     "iopub.status.idle": "2022-07-30T04:03:46.309648Z",
     "shell.execute_reply": "2022-07-30T04:03:46.308463Z"
    },
    "papermill": {
     "duration": 0.051251,
     "end_time": "2022-07-30T04:03:46.311918",
     "exception": false,
     "start_time": "2022-07-30T04:03:46.260667",
     "status": "completed"
    },
    "tags": []
   },
   "outputs": [
    {
     "data": {
      "text/html": [
       "<div>\n",
       "<style scoped>\n",
       "    .dataframe tbody tr th:only-of-type {\n",
       "        vertical-align: middle;\n",
       "    }\n",
       "\n",
       "    .dataframe tbody tr th {\n",
       "        vertical-align: top;\n",
       "    }\n",
       "\n",
       "    .dataframe thead th {\n",
       "        text-align: right;\n",
       "    }\n",
       "</style>\n",
       "<table border=\"1\" class=\"dataframe\">\n",
       "  <thead>\n",
       "    <tr style=\"text-align: right;\">\n",
       "      <th></th>\n",
       "      <th>GENDER</th>\n",
       "      <th>AGE</th>\n",
       "      <th>SMOKING</th>\n",
       "      <th>YELLOW_FINGERS</th>\n",
       "      <th>ANXIETY</th>\n",
       "      <th>PEER_PRESSURE</th>\n",
       "      <th>CHRONIC DISEASE</th>\n",
       "      <th>FATIGUE</th>\n",
       "      <th>ALLERGY</th>\n",
       "      <th>WHEEZING</th>\n",
       "      <th>ALCOHOL CONSUMING</th>\n",
       "      <th>COUGHING</th>\n",
       "      <th>SHORTNESS OF BREATH</th>\n",
       "      <th>SWALLOWING DIFFICULTY</th>\n",
       "      <th>CHEST PAIN</th>\n",
       "    </tr>\n",
       "  </thead>\n",
       "  <tbody>\n",
       "    <tr>\n",
       "      <th>0</th>\n",
       "      <td>1.0</td>\n",
       "      <td>0.469388</td>\n",
       "      <td>1.0</td>\n",
       "      <td>1.0</td>\n",
       "      <td>1.0</td>\n",
       "      <td>0.0</td>\n",
       "      <td>0.0</td>\n",
       "      <td>1.0</td>\n",
       "      <td>1.0</td>\n",
       "      <td>0.0</td>\n",
       "      <td>1.0</td>\n",
       "      <td>0.0</td>\n",
       "      <td>1.0</td>\n",
       "      <td>1.0</td>\n",
       "      <td>1.0</td>\n",
       "    </tr>\n",
       "    <tr>\n",
       "      <th>1</th>\n",
       "      <td>1.0</td>\n",
       "      <td>0.530612</td>\n",
       "      <td>1.0</td>\n",
       "      <td>1.0</td>\n",
       "      <td>0.0</td>\n",
       "      <td>1.0</td>\n",
       "      <td>0.0</td>\n",
       "      <td>1.0</td>\n",
       "      <td>0.0</td>\n",
       "      <td>1.0</td>\n",
       "      <td>1.0</td>\n",
       "      <td>1.0</td>\n",
       "      <td>0.0</td>\n",
       "      <td>1.0</td>\n",
       "      <td>1.0</td>\n",
       "    </tr>\n",
       "    <tr>\n",
       "      <th>2</th>\n",
       "      <td>1.0</td>\n",
       "      <td>0.714286</td>\n",
       "      <td>1.0</td>\n",
       "      <td>1.0</td>\n",
       "      <td>1.0</td>\n",
       "      <td>0.0</td>\n",
       "      <td>1.0</td>\n",
       "      <td>0.0</td>\n",
       "      <td>1.0</td>\n",
       "      <td>0.0</td>\n",
       "      <td>1.0</td>\n",
       "      <td>0.0</td>\n",
       "      <td>0.0</td>\n",
       "      <td>0.0</td>\n",
       "      <td>0.0</td>\n",
       "    </tr>\n",
       "    <tr>\n",
       "      <th>3</th>\n",
       "      <td>1.0</td>\n",
       "      <td>0.489796</td>\n",
       "      <td>0.0</td>\n",
       "      <td>0.0</td>\n",
       "      <td>0.0</td>\n",
       "      <td>1.0</td>\n",
       "      <td>0.0</td>\n",
       "      <td>0.0</td>\n",
       "      <td>0.0</td>\n",
       "      <td>1.0</td>\n",
       "      <td>1.0</td>\n",
       "      <td>0.0</td>\n",
       "      <td>0.0</td>\n",
       "      <td>1.0</td>\n",
       "      <td>1.0</td>\n",
       "    </tr>\n",
       "    <tr>\n",
       "      <th>4</th>\n",
       "      <td>0.0</td>\n",
       "      <td>0.265306</td>\n",
       "      <td>0.0</td>\n",
       "      <td>1.0</td>\n",
       "      <td>0.0</td>\n",
       "      <td>0.0</td>\n",
       "      <td>1.0</td>\n",
       "      <td>1.0</td>\n",
       "      <td>1.0</td>\n",
       "      <td>1.0</td>\n",
       "      <td>1.0</td>\n",
       "      <td>1.0</td>\n",
       "      <td>1.0</td>\n",
       "      <td>0.0</td>\n",
       "      <td>1.0</td>\n",
       "    </tr>\n",
       "    <tr>\n",
       "      <th>...</th>\n",
       "      <td>...</td>\n",
       "      <td>...</td>\n",
       "      <td>...</td>\n",
       "      <td>...</td>\n",
       "      <td>...</td>\n",
       "      <td>...</td>\n",
       "      <td>...</td>\n",
       "      <td>...</td>\n",
       "      <td>...</td>\n",
       "      <td>...</td>\n",
       "      <td>...</td>\n",
       "      <td>...</td>\n",
       "      <td>...</td>\n",
       "      <td>...</td>\n",
       "      <td>...</td>\n",
       "    </tr>\n",
       "    <tr>\n",
       "      <th>242</th>\n",
       "      <td>1.0</td>\n",
       "      <td>0.387755</td>\n",
       "      <td>0.0</td>\n",
       "      <td>1.0</td>\n",
       "      <td>1.0</td>\n",
       "      <td>0.0</td>\n",
       "      <td>0.0</td>\n",
       "      <td>0.0</td>\n",
       "      <td>0.0</td>\n",
       "      <td>0.0</td>\n",
       "      <td>0.0</td>\n",
       "      <td>1.0</td>\n",
       "      <td>0.0</td>\n",
       "      <td>0.0</td>\n",
       "      <td>0.0</td>\n",
       "    </tr>\n",
       "    <tr>\n",
       "      <th>243</th>\n",
       "      <td>0.0</td>\n",
       "      <td>0.367347</td>\n",
       "      <td>1.0</td>\n",
       "      <td>1.0</td>\n",
       "      <td>1.0</td>\n",
       "      <td>0.0</td>\n",
       "      <td>0.0</td>\n",
       "      <td>0.0</td>\n",
       "      <td>0.0</td>\n",
       "      <td>0.0</td>\n",
       "      <td>0.0</td>\n",
       "      <td>0.0</td>\n",
       "      <td>1.0</td>\n",
       "      <td>1.0</td>\n",
       "      <td>0.0</td>\n",
       "    </tr>\n",
       "    <tr>\n",
       "      <th>244</th>\n",
       "      <td>0.0</td>\n",
       "      <td>0.367347</td>\n",
       "      <td>1.0</td>\n",
       "      <td>0.0</td>\n",
       "      <td>0.0</td>\n",
       "      <td>0.0</td>\n",
       "      <td>0.0</td>\n",
       "      <td>1.0</td>\n",
       "      <td>1.0</td>\n",
       "      <td>1.0</td>\n",
       "      <td>1.0</td>\n",
       "      <td>1.0</td>\n",
       "      <td>1.0</td>\n",
       "      <td>0.0</td>\n",
       "      <td>1.0</td>\n",
       "    </tr>\n",
       "    <tr>\n",
       "      <th>245</th>\n",
       "      <td>0.0</td>\n",
       "      <td>0.265306</td>\n",
       "      <td>0.0</td>\n",
       "      <td>1.0</td>\n",
       "      <td>0.0</td>\n",
       "      <td>0.0</td>\n",
       "      <td>1.0</td>\n",
       "      <td>1.0</td>\n",
       "      <td>1.0</td>\n",
       "      <td>1.0</td>\n",
       "      <td>1.0</td>\n",
       "      <td>1.0</td>\n",
       "      <td>1.0</td>\n",
       "      <td>0.0</td>\n",
       "      <td>1.0</td>\n",
       "    </tr>\n",
       "    <tr>\n",
       "      <th>246</th>\n",
       "      <td>1.0</td>\n",
       "      <td>0.428571</td>\n",
       "      <td>1.0</td>\n",
       "      <td>0.0</td>\n",
       "      <td>0.0</td>\n",
       "      <td>0.0</td>\n",
       "      <td>1.0</td>\n",
       "      <td>1.0</td>\n",
       "      <td>1.0</td>\n",
       "      <td>0.0</td>\n",
       "      <td>0.0</td>\n",
       "      <td>0.0</td>\n",
       "      <td>1.0</td>\n",
       "      <td>0.0</td>\n",
       "      <td>0.0</td>\n",
       "    </tr>\n",
       "  </tbody>\n",
       "</table>\n",
       "<p>247 rows × 15 columns</p>\n",
       "</div>"
      ],
      "text/plain": [
       "     GENDER       AGE  SMOKING  YELLOW_FINGERS  ANXIETY  PEER_PRESSURE  \\\n",
       "0       1.0  0.469388      1.0             1.0      1.0            0.0   \n",
       "1       1.0  0.530612      1.0             1.0      0.0            1.0   \n",
       "2       1.0  0.714286      1.0             1.0      1.0            0.0   \n",
       "3       1.0  0.489796      0.0             0.0      0.0            1.0   \n",
       "4       0.0  0.265306      0.0             1.0      0.0            0.0   \n",
       "..      ...       ...      ...             ...      ...            ...   \n",
       "242     1.0  0.387755      0.0             1.0      1.0            0.0   \n",
       "243     0.0  0.367347      1.0             1.0      1.0            0.0   \n",
       "244     0.0  0.367347      1.0             0.0      0.0            0.0   \n",
       "245     0.0  0.265306      0.0             1.0      0.0            0.0   \n",
       "246     1.0  0.428571      1.0             0.0      0.0            0.0   \n",
       "\n",
       "     CHRONIC DISEASE  FATIGUE   ALLERGY   WHEEZING  ALCOHOL CONSUMING  \\\n",
       "0                0.0       1.0       1.0       0.0                1.0   \n",
       "1                0.0       1.0       0.0       1.0                1.0   \n",
       "2                1.0       0.0       1.0       0.0                1.0   \n",
       "3                0.0       0.0       0.0       1.0                1.0   \n",
       "4                1.0       1.0       1.0       1.0                1.0   \n",
       "..               ...       ...       ...       ...                ...   \n",
       "242              0.0       0.0       0.0       0.0                0.0   \n",
       "243              0.0       0.0       0.0       0.0                0.0   \n",
       "244              0.0       1.0       1.0       1.0                1.0   \n",
       "245              1.0       1.0       1.0       1.0                1.0   \n",
       "246              1.0       1.0       1.0       0.0                0.0   \n",
       "\n",
       "     COUGHING  SHORTNESS OF BREATH  SWALLOWING DIFFICULTY  CHEST PAIN  \n",
       "0         0.0                  1.0                    1.0         1.0  \n",
       "1         1.0                  0.0                    1.0         1.0  \n",
       "2         0.0                  0.0                    0.0         0.0  \n",
       "3         0.0                  0.0                    1.0         1.0  \n",
       "4         1.0                  1.0                    0.0         1.0  \n",
       "..        ...                  ...                    ...         ...  \n",
       "242       1.0                  0.0                    0.0         0.0  \n",
       "243       0.0                  1.0                    1.0         0.0  \n",
       "244       1.0                  1.0                    0.0         1.0  \n",
       "245       1.0                  1.0                    0.0         1.0  \n",
       "246       0.0                  1.0                    0.0         0.0  \n",
       "\n",
       "[247 rows x 15 columns]"
      ]
     },
     "execution_count": 18,
     "metadata": {},
     "output_type": "execute_result"
    }
   ],
   "source": [
    "from sklearn.preprocessing import MinMaxScaler\n",
    "\n",
    "scale=MinMaxScaler()\n",
    "X_train_scaled=pd.DataFrame(scale.fit_transform(X_train),columns=X_train.columns)\n",
    "X_train_scaled"
   ]
  },
  {
   "cell_type": "markdown",
   "id": "6b89582d",
   "metadata": {
    "papermill": {
     "duration": 0.015154,
     "end_time": "2022-07-30T04:03:46.342806",
     "exception": false,
     "start_time": "2022-07-30T04:03:46.327652",
     "status": "completed"
    },
    "tags": []
   },
   "source": [
    "**<span style=\"color:#FFC72C;\">We can see that all data points are now in floating points.</span>**"
   ]
  },
  {
   "cell_type": "code",
   "execution_count": 19,
   "id": "65b60b2a",
   "metadata": {
    "execution": {
     "iopub.execute_input": "2022-07-30T04:03:46.375862Z",
     "iopub.status.busy": "2022-07-30T04:03:46.375431Z",
     "iopub.status.idle": "2022-07-30T04:03:46.408005Z",
     "shell.execute_reply": "2022-07-30T04:03:46.407237Z"
    },
    "papermill": {
     "duration": 0.051575,
     "end_time": "2022-07-30T04:03:46.410046",
     "exception": false,
     "start_time": "2022-07-30T04:03:46.358471",
     "status": "completed"
    },
    "tags": []
   },
   "outputs": [
    {
     "data": {
      "text/html": [
       "<div>\n",
       "<style scoped>\n",
       "    .dataframe tbody tr th:only-of-type {\n",
       "        vertical-align: middle;\n",
       "    }\n",
       "\n",
       "    .dataframe tbody tr th {\n",
       "        vertical-align: top;\n",
       "    }\n",
       "\n",
       "    .dataframe thead th {\n",
       "        text-align: right;\n",
       "    }\n",
       "</style>\n",
       "<table border=\"1\" class=\"dataframe\">\n",
       "  <thead>\n",
       "    <tr style=\"text-align: right;\">\n",
       "      <th></th>\n",
       "      <th>GENDER</th>\n",
       "      <th>AGE</th>\n",
       "      <th>SMOKING</th>\n",
       "      <th>YELLOW_FINGERS</th>\n",
       "      <th>ANXIETY</th>\n",
       "      <th>PEER_PRESSURE</th>\n",
       "      <th>CHRONIC DISEASE</th>\n",
       "      <th>FATIGUE</th>\n",
       "      <th>ALLERGY</th>\n",
       "      <th>WHEEZING</th>\n",
       "      <th>ALCOHOL CONSUMING</th>\n",
       "      <th>COUGHING</th>\n",
       "      <th>SHORTNESS OF BREATH</th>\n",
       "      <th>SWALLOWING DIFFICULTY</th>\n",
       "      <th>CHEST PAIN</th>\n",
       "    </tr>\n",
       "  </thead>\n",
       "  <tbody>\n",
       "    <tr>\n",
       "      <th>0</th>\n",
       "      <td>1.0</td>\n",
       "      <td>0.964912</td>\n",
       "      <td>1.0</td>\n",
       "      <td>1.0</td>\n",
       "      <td>1.0</td>\n",
       "      <td>1.0</td>\n",
       "      <td>0.0</td>\n",
       "      <td>1.0</td>\n",
       "      <td>1.0</td>\n",
       "      <td>0.0</td>\n",
       "      <td>0.0</td>\n",
       "      <td>0.0</td>\n",
       "      <td>1.0</td>\n",
       "      <td>1.0</td>\n",
       "      <td>1.0</td>\n",
       "    </tr>\n",
       "    <tr>\n",
       "      <th>1</th>\n",
       "      <td>0.0</td>\n",
       "      <td>0.614035</td>\n",
       "      <td>1.0</td>\n",
       "      <td>0.0</td>\n",
       "      <td>0.0</td>\n",
       "      <td>0.0</td>\n",
       "      <td>1.0</td>\n",
       "      <td>0.0</td>\n",
       "      <td>1.0</td>\n",
       "      <td>1.0</td>\n",
       "      <td>1.0</td>\n",
       "      <td>1.0</td>\n",
       "      <td>1.0</td>\n",
       "      <td>0.0</td>\n",
       "      <td>1.0</td>\n",
       "    </tr>\n",
       "    <tr>\n",
       "      <th>2</th>\n",
       "      <td>1.0</td>\n",
       "      <td>0.824561</td>\n",
       "      <td>0.0</td>\n",
       "      <td>0.0</td>\n",
       "      <td>1.0</td>\n",
       "      <td>0.0</td>\n",
       "      <td>1.0</td>\n",
       "      <td>0.0</td>\n",
       "      <td>1.0</td>\n",
       "      <td>1.0</td>\n",
       "      <td>1.0</td>\n",
       "      <td>0.0</td>\n",
       "      <td>0.0</td>\n",
       "      <td>1.0</td>\n",
       "      <td>0.0</td>\n",
       "    </tr>\n",
       "    <tr>\n",
       "      <th>3</th>\n",
       "      <td>0.0</td>\n",
       "      <td>0.684211</td>\n",
       "      <td>0.0</td>\n",
       "      <td>1.0</td>\n",
       "      <td>1.0</td>\n",
       "      <td>0.0</td>\n",
       "      <td>0.0</td>\n",
       "      <td>1.0</td>\n",
       "      <td>0.0</td>\n",
       "      <td>1.0</td>\n",
       "      <td>1.0</td>\n",
       "      <td>1.0</td>\n",
       "      <td>1.0</td>\n",
       "      <td>1.0</td>\n",
       "      <td>1.0</td>\n",
       "    </tr>\n",
       "    <tr>\n",
       "      <th>4</th>\n",
       "      <td>1.0</td>\n",
       "      <td>0.736842</td>\n",
       "      <td>0.0</td>\n",
       "      <td>0.0</td>\n",
       "      <td>0.0</td>\n",
       "      <td>0.0</td>\n",
       "      <td>1.0</td>\n",
       "      <td>1.0</td>\n",
       "      <td>0.0</td>\n",
       "      <td>0.0</td>\n",
       "      <td>0.0</td>\n",
       "      <td>0.0</td>\n",
       "      <td>1.0</td>\n",
       "      <td>0.0</td>\n",
       "      <td>0.0</td>\n",
       "    </tr>\n",
       "    <tr>\n",
       "      <th>...</th>\n",
       "      <td>...</td>\n",
       "      <td>...</td>\n",
       "      <td>...</td>\n",
       "      <td>...</td>\n",
       "      <td>...</td>\n",
       "      <td>...</td>\n",
       "      <td>...</td>\n",
       "      <td>...</td>\n",
       "      <td>...</td>\n",
       "      <td>...</td>\n",
       "      <td>...</td>\n",
       "      <td>...</td>\n",
       "      <td>...</td>\n",
       "      <td>...</td>\n",
       "      <td>...</td>\n",
       "    </tr>\n",
       "    <tr>\n",
       "      <th>57</th>\n",
       "      <td>0.0</td>\n",
       "      <td>0.456140</td>\n",
       "      <td>0.0</td>\n",
       "      <td>1.0</td>\n",
       "      <td>0.0</td>\n",
       "      <td>1.0</td>\n",
       "      <td>1.0</td>\n",
       "      <td>1.0</td>\n",
       "      <td>0.0</td>\n",
       "      <td>1.0</td>\n",
       "      <td>0.0</td>\n",
       "      <td>0.0</td>\n",
       "      <td>1.0</td>\n",
       "      <td>1.0</td>\n",
       "      <td>1.0</td>\n",
       "    </tr>\n",
       "    <tr>\n",
       "      <th>58</th>\n",
       "      <td>0.0</td>\n",
       "      <td>0.701754</td>\n",
       "      <td>1.0</td>\n",
       "      <td>1.0</td>\n",
       "      <td>1.0</td>\n",
       "      <td>0.0</td>\n",
       "      <td>0.0</td>\n",
       "      <td>1.0</td>\n",
       "      <td>1.0</td>\n",
       "      <td>0.0</td>\n",
       "      <td>1.0</td>\n",
       "      <td>0.0</td>\n",
       "      <td>1.0</td>\n",
       "      <td>1.0</td>\n",
       "      <td>1.0</td>\n",
       "    </tr>\n",
       "    <tr>\n",
       "      <th>59</th>\n",
       "      <td>0.0</td>\n",
       "      <td>0.754386</td>\n",
       "      <td>0.0</td>\n",
       "      <td>1.0</td>\n",
       "      <td>1.0</td>\n",
       "      <td>1.0</td>\n",
       "      <td>0.0</td>\n",
       "      <td>1.0</td>\n",
       "      <td>1.0</td>\n",
       "      <td>0.0</td>\n",
       "      <td>0.0</td>\n",
       "      <td>1.0</td>\n",
       "      <td>0.0</td>\n",
       "      <td>1.0</td>\n",
       "      <td>0.0</td>\n",
       "    </tr>\n",
       "    <tr>\n",
       "      <th>60</th>\n",
       "      <td>1.0</td>\n",
       "      <td>0.771930</td>\n",
       "      <td>1.0</td>\n",
       "      <td>1.0</td>\n",
       "      <td>1.0</td>\n",
       "      <td>1.0</td>\n",
       "      <td>0.0</td>\n",
       "      <td>1.0</td>\n",
       "      <td>0.0</td>\n",
       "      <td>1.0</td>\n",
       "      <td>0.0</td>\n",
       "      <td>1.0</td>\n",
       "      <td>1.0</td>\n",
       "      <td>1.0</td>\n",
       "      <td>0.0</td>\n",
       "    </tr>\n",
       "    <tr>\n",
       "      <th>61</th>\n",
       "      <td>1.0</td>\n",
       "      <td>0.578947</td>\n",
       "      <td>1.0</td>\n",
       "      <td>1.0</td>\n",
       "      <td>1.0</td>\n",
       "      <td>1.0</td>\n",
       "      <td>1.0</td>\n",
       "      <td>1.0</td>\n",
       "      <td>0.0</td>\n",
       "      <td>0.0</td>\n",
       "      <td>0.0</td>\n",
       "      <td>0.0</td>\n",
       "      <td>1.0</td>\n",
       "      <td>1.0</td>\n",
       "      <td>0.0</td>\n",
       "    </tr>\n",
       "  </tbody>\n",
       "</table>\n",
       "<p>62 rows × 15 columns</p>\n",
       "</div>"
      ],
      "text/plain": [
       "    GENDER       AGE  SMOKING  YELLOW_FINGERS  ANXIETY  PEER_PRESSURE  \\\n",
       "0      1.0  0.964912      1.0             1.0      1.0            1.0   \n",
       "1      0.0  0.614035      1.0             0.0      0.0            0.0   \n",
       "2      1.0  0.824561      0.0             0.0      1.0            0.0   \n",
       "3      0.0  0.684211      0.0             1.0      1.0            0.0   \n",
       "4      1.0  0.736842      0.0             0.0      0.0            0.0   \n",
       "..     ...       ...      ...             ...      ...            ...   \n",
       "57     0.0  0.456140      0.0             1.0      0.0            1.0   \n",
       "58     0.0  0.701754      1.0             1.0      1.0            0.0   \n",
       "59     0.0  0.754386      0.0             1.0      1.0            1.0   \n",
       "60     1.0  0.771930      1.0             1.0      1.0            1.0   \n",
       "61     1.0  0.578947      1.0             1.0      1.0            1.0   \n",
       "\n",
       "    CHRONIC DISEASE  FATIGUE   ALLERGY   WHEEZING  ALCOHOL CONSUMING  \\\n",
       "0               0.0       1.0       1.0       0.0                0.0   \n",
       "1               1.0       0.0       1.0       1.0                1.0   \n",
       "2               1.0       0.0       1.0       1.0                1.0   \n",
       "3               0.0       1.0       0.0       1.0                1.0   \n",
       "4               1.0       1.0       0.0       0.0                0.0   \n",
       "..              ...       ...       ...       ...                ...   \n",
       "57              1.0       1.0       0.0       1.0                0.0   \n",
       "58              0.0       1.0       1.0       0.0                1.0   \n",
       "59              0.0       1.0       1.0       0.0                0.0   \n",
       "60              0.0       1.0       0.0       1.0                0.0   \n",
       "61              1.0       1.0       0.0       0.0                0.0   \n",
       "\n",
       "    COUGHING  SHORTNESS OF BREATH  SWALLOWING DIFFICULTY  CHEST PAIN  \n",
       "0        0.0                  1.0                    1.0         1.0  \n",
       "1        1.0                  1.0                    0.0         1.0  \n",
       "2        0.0                  0.0                    1.0         0.0  \n",
       "3        1.0                  1.0                    1.0         1.0  \n",
       "4        0.0                  1.0                    0.0         0.0  \n",
       "..       ...                  ...                    ...         ...  \n",
       "57       0.0                  1.0                    1.0         1.0  \n",
       "58       0.0                  1.0                    1.0         1.0  \n",
       "59       1.0                  0.0                    1.0         0.0  \n",
       "60       1.0                  1.0                    1.0         0.0  \n",
       "61       0.0                  1.0                    1.0         0.0  \n",
       "\n",
       "[62 rows x 15 columns]"
      ]
     },
     "execution_count": 19,
     "metadata": {},
     "output_type": "execute_result"
    }
   ],
   "source": [
    "X_test_scaled = pd.DataFrame(scale.fit_transform(X_test),columns=X_test.columns)\n",
    "X_test_scaled"
   ]
  },
  {
   "cell_type": "markdown",
   "id": "c3870391",
   "metadata": {
    "papermill": {
     "duration": 0.016274,
     "end_time": "2022-07-30T04:03:46.442312",
     "exception": false,
     "start_time": "2022-07-30T04:03:46.426038",
     "status": "completed"
    },
    "tags": []
   },
   "source": [
    "## **<span style=\"color:#cd486b;\"> 🔥 Let's create our classification model</span>**"
   ]
  },
  {
   "cell_type": "markdown",
   "id": "9463d476",
   "metadata": {
    "papermill": {
     "duration": 0.015679,
     "end_time": "2022-07-30T04:03:46.474221",
     "exception": false,
     "start_time": "2022-07-30T04:03:46.458542",
     "status": "completed"
    },
    "tags": []
   },
   "source": [
    "## **<span style=\"color:#cd486b;\"> 1️⃣ Random Forest Classifier</span>**"
   ]
  },
  {
   "cell_type": "code",
   "execution_count": 20,
   "id": "5ddcf6ef",
   "metadata": {
    "execution": {
     "iopub.execute_input": "2022-07-30T04:03:46.508750Z",
     "iopub.status.busy": "2022-07-30T04:03:46.507688Z",
     "iopub.status.idle": "2022-07-30T04:03:46.649030Z",
     "shell.execute_reply": "2022-07-30T04:03:46.647856Z"
    },
    "papermill": {
     "duration": 0.161197,
     "end_time": "2022-07-30T04:03:46.651474",
     "exception": false,
     "start_time": "2022-07-30T04:03:46.490277",
     "status": "completed"
    },
    "tags": []
   },
   "outputs": [
    {
     "data": {
      "text/plain": [
       "RandomForestClassifier()"
      ]
     },
     "execution_count": 20,
     "metadata": {},
     "output_type": "execute_result"
    }
   ],
   "source": [
    "# Model 1\n",
    "model_1 = RandomForestClassifier() \n",
    "\n",
    "# Fit\n",
    "model_1.fit(X_train, y_train)"
   ]
  },
  {
   "cell_type": "code",
   "execution_count": 21,
   "id": "3e5bcbaa",
   "metadata": {
    "execution": {
     "iopub.execute_input": "2022-07-30T04:03:46.686464Z",
     "iopub.status.busy": "2022-07-30T04:03:46.686029Z",
     "iopub.status.idle": "2022-07-30T04:03:46.708474Z",
     "shell.execute_reply": "2022-07-30T04:03:46.707603Z"
    },
    "papermill": {
     "duration": 0.042919,
     "end_time": "2022-07-30T04:03:46.710797",
     "exception": false,
     "start_time": "2022-07-30T04:03:46.667878",
     "status": "completed"
    },
    "tags": []
   },
   "outputs": [],
   "source": [
    "from sklearn.metrics import mean_absolute_error\n",
    "\n",
    "# Get predictions\n",
    "predictions_1 = model_1.predict(X_test)"
   ]
  },
  {
   "cell_type": "code",
   "execution_count": 22,
   "id": "3186c043",
   "metadata": {
    "execution": {
     "iopub.execute_input": "2022-07-30T04:03:46.746039Z",
     "iopub.status.busy": "2022-07-30T04:03:46.745249Z",
     "iopub.status.idle": "2022-07-30T04:03:46.752430Z",
     "shell.execute_reply": "2022-07-30T04:03:46.751335Z"
    },
    "papermill": {
     "duration": 0.027998,
     "end_time": "2022-07-30T04:03:46.754939",
     "exception": false,
     "start_time": "2022-07-30T04:03:46.726941",
     "status": "completed"
    },
    "tags": []
   },
   "outputs": [
    {
     "name": "stdout",
     "output_type": "stream",
     "text": [
      "Mean Absolute Error with  Random Forest classifier: 0.11290322580645161\n"
     ]
    }
   ],
   "source": [
    "# Calculate MAE\n",
    "mae_1 = mean_absolute_error(predictions_1 ,y_test ) \n",
    "\n",
    "print(\"Mean Absolute Error with  Random Forest classifier:\" , mae_1)"
   ]
  },
  {
   "cell_type": "markdown",
   "id": "e08ab216",
   "metadata": {
    "papermill": {
     "duration": 0.015847,
     "end_time": "2022-07-30T04:03:46.787156",
     "exception": false,
     "start_time": "2022-07-30T04:03:46.771309",
     "status": "completed"
    },
    "tags": []
   },
   "source": [
    "## **<span style=\"color:#cd486b;\">2️⃣ Support Vector Machine Classifier</span>**"
   ]
  },
  {
   "cell_type": "code",
   "execution_count": 23,
   "id": "7568214e",
   "metadata": {
    "execution": {
     "iopub.execute_input": "2022-07-30T04:03:46.821594Z",
     "iopub.status.busy": "2022-07-30T04:03:46.820947Z",
     "iopub.status.idle": "2022-07-30T04:03:46.831779Z",
     "shell.execute_reply": "2022-07-30T04:03:46.830878Z"
    },
    "papermill": {
     "duration": 0.030593,
     "end_time": "2022-07-30T04:03:46.833798",
     "exception": false,
     "start_time": "2022-07-30T04:03:46.803205",
     "status": "completed"
    },
    "tags": []
   },
   "outputs": [
    {
     "data": {
      "text/plain": [
       "SVC()"
      ]
     },
     "execution_count": 23,
     "metadata": {},
     "output_type": "execute_result"
    }
   ],
   "source": [
    "# Model 2\n",
    "model_2 = svm.SVC()\n",
    "\n",
    "# Fit \n",
    "model_2.fit(X_train, y_train)"
   ]
  },
  {
   "cell_type": "code",
   "execution_count": 24,
   "id": "8b731124",
   "metadata": {
    "execution": {
     "iopub.execute_input": "2022-07-30T04:03:46.868481Z",
     "iopub.status.busy": "2022-07-30T04:03:46.867771Z",
     "iopub.status.idle": "2022-07-30T04:03:46.876455Z",
     "shell.execute_reply": "2022-07-30T04:03:46.874729Z"
    },
    "papermill": {
     "duration": 0.029404,
     "end_time": "2022-07-30T04:03:46.879295",
     "exception": false,
     "start_time": "2022-07-30T04:03:46.849891",
     "status": "completed"
    },
    "tags": []
   },
   "outputs": [
    {
     "name": "stdout",
     "output_type": "stream",
     "text": [
      "Mean Absolute Error with Support Vector Machine: 0\n"
     ]
    }
   ],
   "source": [
    "# Make predictions calculate mean absolute error\n",
    "\n",
    "predictions_2 = model_2.predict(X_test)\n",
    "mae_2 = mean_absolute_error(predictions_2, y_test)\n",
    "\n",
    "print(\"Mean Absolute Error with Support Vector Machine: {:,.0f}\".format(mae_2))"
   ]
  },
  {
   "cell_type": "markdown",
   "id": "952184d4",
   "metadata": {
    "papermill": {
     "duration": 0.016865,
     "end_time": "2022-07-30T04:03:46.913044",
     "exception": false,
     "start_time": "2022-07-30T04:03:46.896179",
     "status": "completed"
    },
    "tags": []
   },
   "source": [
    "## **<span style=\"color:#cd486b;\">3️⃣ k Nearest neighbors </span>**"
   ]
  },
  {
   "cell_type": "code",
   "execution_count": 25,
   "id": "79ae69f2",
   "metadata": {
    "execution": {
     "iopub.execute_input": "2022-07-30T04:03:46.947782Z",
     "iopub.status.busy": "2022-07-30T04:03:46.946921Z",
     "iopub.status.idle": "2022-07-30T04:03:46.956902Z",
     "shell.execute_reply": "2022-07-30T04:03:46.956059Z"
    },
    "papermill": {
     "duration": 0.029476,
     "end_time": "2022-07-30T04:03:46.958944",
     "exception": false,
     "start_time": "2022-07-30T04:03:46.929468",
     "status": "completed"
    },
    "tags": []
   },
   "outputs": [
    {
     "data": {
      "text/plain": [
       "KNeighborsClassifier()"
      ]
     },
     "execution_count": 25,
     "metadata": {},
     "output_type": "execute_result"
    }
   ],
   "source": [
    "#Model 3\n",
    "model_3 = KNeighborsClassifier(n_neighbors=5)\n",
    "\n",
    "# Fit \n",
    "model_3.fit(X_train, y_train)"
   ]
  },
  {
   "cell_type": "code",
   "execution_count": 26,
   "id": "49690a6e",
   "metadata": {
    "execution": {
     "iopub.execute_input": "2022-07-30T04:03:46.993698Z",
     "iopub.status.busy": "2022-07-30T04:03:46.993295Z",
     "iopub.status.idle": "2022-07-30T04:03:47.006791Z",
     "shell.execute_reply": "2022-07-30T04:03:47.005411Z"
    },
    "papermill": {
     "duration": 0.033295,
     "end_time": "2022-07-30T04:03:47.009067",
     "exception": false,
     "start_time": "2022-07-30T04:03:46.975772",
     "status": "completed"
    },
    "tags": []
   },
   "outputs": [
    {
     "name": "stdout",
     "output_type": "stream",
     "text": [
      "Mean Absolute Error with K nearest Neighbor classifier is : 0\n"
     ]
    }
   ],
   "source": [
    "# Make predictions calculate mean absolute error\n",
    "\n",
    "predictions_3 = model_3.predict(X_test)\n",
    "mae_3 = mean_absolute_error(predictions_3, y_test)\n",
    "\n",
    "print(\"Mean Absolute Error with K nearest Neighbor classifier is : {:,.0f}\".format(mae_3))"
   ]
  },
  {
   "cell_type": "markdown",
   "id": "ff488ead",
   "metadata": {
    "papermill": {
     "duration": 0.016686,
     "end_time": "2022-07-30T04:03:47.043482",
     "exception": false,
     "start_time": "2022-07-30T04:03:47.026796",
     "status": "completed"
    },
    "tags": []
   },
   "source": [
    "**<span style=\"color:#FFC72C;\">The lower the value the better and 0 means the model is perfect.</span>**"
   ]
  },
  {
   "cell_type": "markdown",
   "id": "ac4ea072",
   "metadata": {
    "papermill": {
     "duration": 0.020935,
     "end_time": "2022-07-30T04:03:47.091922",
     "exception": false,
     "start_time": "2022-07-30T04:03:47.070987",
     "status": "completed"
    },
    "tags": []
   },
   "source": [
    "## **<span style=\"color:#cd486b;\">🔮 Predictions</span>**"
   ]
  },
  {
   "cell_type": "code",
   "execution_count": 27,
   "id": "65ad3923",
   "metadata": {
    "execution": {
     "iopub.execute_input": "2022-07-30T04:03:47.128053Z",
     "iopub.status.busy": "2022-07-30T04:03:47.127016Z",
     "iopub.status.idle": "2022-07-30T04:03:47.134118Z",
     "shell.execute_reply": "2022-07-30T04:03:47.132983Z"
    },
    "papermill": {
     "duration": 0.027381,
     "end_time": "2022-07-30T04:03:47.136236",
     "exception": false,
     "start_time": "2022-07-30T04:03:47.108855",
     "status": "completed"
    },
    "tags": []
   },
   "outputs": [
    {
     "name": "stdout",
     "output_type": "stream",
     "text": [
      "Random Forest classifier Predictions -  [2 2 2 2 1 2 1 2 1 2 2 2 2 2 2 2 1 1 2 2 2 2 2 2 2 1 2 2 2 2 2 2 2 2 1 1 2\n",
      " 2 2 2 2 2 2 2 2 2 2 2 2 2 2 2 1 2 2 2 2 2 2 2 2 2]\n"
     ]
    }
   ],
   "source": [
    "print('Random Forest classifier Predictions - ', predictions_1)"
   ]
  },
  {
   "cell_type": "code",
   "execution_count": 28,
   "id": "cefcb328",
   "metadata": {
    "execution": {
     "iopub.execute_input": "2022-07-30T04:03:47.181232Z",
     "iopub.status.busy": "2022-07-30T04:03:47.180503Z",
     "iopub.status.idle": "2022-07-30T04:03:47.186614Z",
     "shell.execute_reply": "2022-07-30T04:03:47.185433Z"
    },
    "papermill": {
     "duration": 0.032583,
     "end_time": "2022-07-30T04:03:47.188801",
     "exception": false,
     "start_time": "2022-07-30T04:03:47.156218",
     "status": "completed"
    },
    "tags": []
   },
   "outputs": [
    {
     "name": "stdout",
     "output_type": "stream",
     "text": [
      "Support Vector Machine classifier predictions -  [2 2 2 2 2 2 2 2 2 2 2 2 2 2 2 2 2 2 2 2 2 2 2 2 2 2 2 2 2 2 2 2 2 2 2 2 2\n",
      " 2 2 2 2 2 2 2 2 2 2 2 2 2 2 2 2 2 2 2 2 2 2 2 2 2]\n"
     ]
    }
   ],
   "source": [
    "print('Support Vector Machine classifier predictions - ', predictions_2)"
   ]
  },
  {
   "cell_type": "code",
   "execution_count": 29,
   "id": "1606acf6",
   "metadata": {
    "execution": {
     "iopub.execute_input": "2022-07-30T04:03:47.225113Z",
     "iopub.status.busy": "2022-07-30T04:03:47.224261Z",
     "iopub.status.idle": "2022-07-30T04:03:47.230924Z",
     "shell.execute_reply": "2022-07-30T04:03:47.229846Z"
    },
    "papermill": {
     "duration": 0.027218,
     "end_time": "2022-07-30T04:03:47.233136",
     "exception": false,
     "start_time": "2022-07-30T04:03:47.205918",
     "status": "completed"
    },
    "tags": []
   },
   "outputs": [
    {
     "name": "stdout",
     "output_type": "stream",
     "text": [
      "K nearest neighbor classifier Predictions -  [2 2 2 2 1 2 2 2 1 2 2 2 2 2 2 2 1 2 2 2 2 2 2 2 2 2 2 2 2 2 2 2 2 2 1 2 2\n",
      " 2 2 2 2 2 2 2 2 2 2 2 2 2 2 2 2 2 2 2 2 2 2 2 2 2]\n"
     ]
    }
   ],
   "source": [
    "print('K nearest neighbor classifier Predictions - ', predictions_3)"
   ]
  },
  {
   "cell_type": "code",
   "execution_count": 30,
   "id": "f45435d8",
   "metadata": {
    "execution": {
     "iopub.execute_input": "2022-07-30T04:03:47.269636Z",
     "iopub.status.busy": "2022-07-30T04:03:47.268867Z",
     "iopub.status.idle": "2022-07-30T04:03:47.513900Z",
     "shell.execute_reply": "2022-07-30T04:03:47.512785Z"
    },
    "papermill": {
     "duration": 0.26646,
     "end_time": "2022-07-30T04:03:47.516743",
     "exception": false,
     "start_time": "2022-07-30T04:03:47.250283",
     "status": "completed"
    },
    "tags": []
   },
   "outputs": [
    {
     "data": {
      "image/png": "[encoded data removed]",
      "text/plain": [
       "<Figure size 432x288 with 1 Axes>"
      ]
     },
     "metadata": {
      "needs_background": "light"
     },
     "output_type": "display_data"
    }
   ],
   "source": [
    "from sklearn.metrics import PrecisionRecallDisplay\n",
    "\n",
    "display = PrecisionRecallDisplay.from_estimator(\n",
    "    model_2, X_test, y_test, name=\"LinearSVC\"\n",
    ")\n",
    "_ = display.ax_.set_title(\"Precision-Recall curve\")"
   ]
  },
  {
   "cell_type": "code",
   "execution_count": 31,
   "id": "5e955c3c",
   "metadata": {
    "execution": {
     "iopub.execute_input": "2022-07-30T04:03:47.559142Z",
     "iopub.status.busy": "2022-07-30T04:03:47.558000Z",
     "iopub.status.idle": "2022-07-30T04:03:47.562735Z",
     "shell.execute_reply": "2022-07-30T04:03:47.561906Z"
    },
    "papermill": {
     "duration": 0.026453,
     "end_time": "2022-07-30T04:03:47.565214",
     "exception": false,
     "start_time": "2022-07-30T04:03:47.538761",
     "status": "completed"
    },
    "tags": []
   },
   "outputs": [],
   "source": [
    "import sklearn"
   ]
  },
  {
   "cell_type": "code",
   "execution_count": 32,
   "id": "c6d39760",
   "metadata": {
    "execution": {
     "iopub.execute_input": "2022-07-30T04:03:47.606530Z",
     "iopub.status.busy": "2022-07-30T04:03:47.605641Z",
     "iopub.status.idle": "2022-07-30T04:03:47.619573Z",
     "shell.execute_reply": "2022-07-30T04:03:47.618156Z"
    },
    "papermill": {
     "duration": 0.037884,
     "end_time": "2022-07-30T04:03:47.625397",
     "exception": false,
     "start_time": "2022-07-30T04:03:47.587513",
     "status": "completed"
    },
    "tags": []
   },
   "outputs": [
    {
     "name": "stdout",
     "output_type": "stream",
     "text": [
      "Precision score for Random Forest Classifier is   0.5555555555555556\n",
      "Precision score for Support Vector Machine classifier is   0.0\n",
      "Precision score for K nearest neighbor classifier is   0.75\n"
     ]
    }
   ],
   "source": [
    "#precision score\n",
    "\n",
    "precision_score_1 = sklearn.metrics.precision_score(y_test, predictions_1, labels=model_1.classes_)\n",
    "precision_score_2 = sklearn.metrics.precision_score(y_test, predictions_2, labels=model_2.classes_)\n",
    "precision_score_3 = sklearn.metrics.precision_score(y_test, predictions_3, labels=model_3.classes_)\n",
    "\n",
    "print(\"Precision score for Random Forest Classifier is  \", precision_score_1)\n",
    "\n",
    "print(\"Precision score for Support Vector Machine classifier is  \", precision_score_2)\n",
    "\n",
    "print(\"Precision score for K nearest neighbor classifier is  \", precision_score_3)\n",
    "\n"
   ]
  },
  {
   "cell_type": "code",
   "execution_count": 33,
   "id": "d3ddbaa3",
   "metadata": {
    "execution": {
     "iopub.execute_input": "2022-07-30T04:03:47.662103Z",
     "iopub.status.busy": "2022-07-30T04:03:47.661739Z",
     "iopub.status.idle": "2022-07-30T04:03:47.674950Z",
     "shell.execute_reply": "2022-07-30T04:03:47.673086Z"
    },
    "papermill": {
     "duration": 0.034862,
     "end_time": "2022-07-30T04:03:47.678043",
     "exception": false,
     "start_time": "2022-07-30T04:03:47.643181",
     "status": "completed"
    },
    "tags": []
   },
   "outputs": [
    {
     "name": "stdout",
     "output_type": "stream",
     "text": [
      "F1 Score for Random Forest Classifier is  0.8898898721381829\n",
      "F1 Score for Support Vector Machine classifier is  0.8109010011123471\n",
      "F1 Score for K nearest neighbor classifier is  0.8888248847926267\n"
     ]
    }
   ],
   "source": [
    "F1_model_1 = sklearn.metrics.f1_score(y_test, predictions_1, labels=model_1.classes_, pos_label=1, average='weighted', sample_weight=None)\n",
    "\n",
    "F1_model_2 = sklearn.metrics.f1_score(y_test, predictions_2, labels=model_2.classes_, pos_label=1, average='weighted', sample_weight = None)\n",
    "\n",
    "F1_model_3 = sklearn.metrics.f1_score(y_test, predictions_3, labels=model_3.classes_, pos_label=1, average='weighted', sample_weight = None)\n",
    "\n",
    "print(\"F1 Score for Random Forest Classifier is \", F1_model_1)\n",
    "print(\"F1 Score for Support Vector Machine classifier is \", F1_model_2)\n",
    "print(\"F1 Score for K nearest neighbor classifier is \", F1_model_3)"
   ]
  },
  {
   "cell_type": "code",
   "execution_count": 34,
   "id": "3124365d",
   "metadata": {
    "execution": {
     "iopub.execute_input": "2022-07-30T04:03:47.715200Z",
     "iopub.status.busy": "2022-07-30T04:03:47.714440Z",
     "iopub.status.idle": "2022-07-30T04:03:47.920728Z",
     "shell.execute_reply": "2022-07-30T04:03:47.919848Z"
    },
    "papermill": {
     "duration": 0.227749,
     "end_time": "2022-07-30T04:03:47.923345",
     "exception": false,
     "start_time": "2022-07-30T04:03:47.695596",
     "status": "completed"
    },
    "tags": []
   },
   "outputs": [
    {
     "data": {
      "text/plain": [
       "<sklearn.metrics._plot.confusion_matrix.ConfusionMatrixDisplay at 0x7fafd2a66d50>"
      ]
     },
     "execution_count": 34,
     "metadata": {},
     "output_type": "execute_result"
    },
    {
     "data": {
      "image/png": "[encoded data removed]",
      "text/plain": [
       "<Figure size 432x288 with 2 Axes>"
      ]
     },
     "metadata": {
      "needs_background": "light"
     },
     "output_type": "display_data"
    }
   ],
   "source": [
    "from sklearn.metrics import confusion_matrix, ConfusionMatrixDisplay\n",
    "from sklearn.svm import SVC\n",
    "\n",
    "#clf = SVC(random_state=0)\n",
    "#clf.fit(X_train, y_train)\n",
    "\n",
    "cm = confusion_matrix(y_test, predictions_2, labels=model_2.classes_)\n",
    "disp = ConfusionMatrixDisplay(confusion_matrix=cm,\n",
    "                              display_labels=model_2.classes_)\n",
    "disp.plot()\n",
    "\n",
    "#plt.show()"
   ]
  },
  {
   "cell_type": "markdown",
   "id": "47ba756a",
   "metadata": {
    "papermill": {
     "duration": 0.017688,
     "end_time": "2022-07-30T04:03:47.967260",
     "exception": false,
     "start_time": "2022-07-30T04:03:47.949572",
     "status": "completed"
    },
    "tags": []
   },
   "source": [
    "**Here, 2 means accurate prediction of Lung Cancer**"
   ]
  },
  {
   "cell_type": "markdown",
   "id": "65e74e84",
   "metadata": {
    "papermill": {
     "duration": 0.01791,
     "end_time": "2022-07-30T04:03:48.003123",
     "exception": false,
     "start_time": "2022-07-30T04:03:47.985213",
     "status": "completed"
    },
    "tags": []
   },
   "source": [
    "## **<span style=\"color:#cd486b;\"> ✔ Accuracy Check</span>**"
   ]
  },
  {
   "cell_type": "code",
   "execution_count": 35,
   "id": "31069ba6",
   "metadata": {
    "execution": {
     "iopub.execute_input": "2022-07-30T04:03:48.044188Z",
     "iopub.status.busy": "2022-07-30T04:03:48.043533Z",
     "iopub.status.idle": "2022-07-30T04:03:48.049568Z",
     "shell.execute_reply": "2022-07-30T04:03:48.048389Z"
    },
    "papermill": {
     "duration": 0.03061,
     "end_time": "2022-07-30T04:03:48.051510",
     "exception": false,
     "start_time": "2022-07-30T04:03:48.020900",
     "status": "completed"
    },
    "tags": []
   },
   "outputs": [
    {
     "name": "stdout",
     "output_type": "stream",
     "text": [
      "Accuracy for Random Forest classifier model is -  0.8870967741935484\n"
     ]
    }
   ],
   "source": [
    "from sklearn import metrics\n",
    "\n",
    "accuracy_1 = metrics.accuracy_score(y_test,predictions_1)\n",
    "print('Accuracy for Random Forest classifier model is - ', accuracy_1)"
   ]
  },
  {
   "cell_type": "code",
   "execution_count": 36,
   "id": "3d353b56",
   "metadata": {
    "execution": {
     "iopub.execute_input": "2022-07-30T04:03:48.089199Z",
     "iopub.status.busy": "2022-07-30T04:03:48.088413Z",
     "iopub.status.idle": "2022-07-30T04:03:48.095211Z",
     "shell.execute_reply": "2022-07-30T04:03:48.093766Z"
    },
    "papermill": {
     "duration": 0.028445,
     "end_time": "2022-07-30T04:03:48.097662",
     "exception": false,
     "start_time": "2022-07-30T04:03:48.069217",
     "status": "completed"
    },
    "tags": []
   },
   "outputs": [
    {
     "name": "stdout",
     "output_type": "stream",
     "text": [
      "Accuracy for Support Vector Machine classifier model is -  0.8709677419354839\n"
     ]
    }
   ],
   "source": [
    "accuracy_2 = metrics.accuracy_score(y_test,predictions_2)\n",
    "print('Accuracy for Support Vector Machine classifier model is - ', accuracy_2)"
   ]
  },
  {
   "cell_type": "code",
   "execution_count": 37,
   "id": "1a248592",
   "metadata": {
    "execution": {
     "iopub.execute_input": "2022-07-30T04:03:48.136093Z",
     "iopub.status.busy": "2022-07-30T04:03:48.135685Z",
     "iopub.status.idle": "2022-07-30T04:03:48.143210Z",
     "shell.execute_reply": "2022-07-30T04:03:48.141854Z"
    },
    "papermill": {
     "duration": 0.030116,
     "end_time": "2022-07-30T04:03:48.145545",
     "exception": false,
     "start_time": "2022-07-30T04:03:48.115429",
     "status": "completed"
    },
    "tags": []
   },
   "outputs": [
    {
     "name": "stdout",
     "output_type": "stream",
     "text": [
      "Accuracy for K nearest neighbor classifier model is -  0.9032258064516129\n"
     ]
    }
   ],
   "source": [
    "accuracy_3 = metrics.accuracy_score(y_test,predictions_3)\n",
    "print('Accuracy for K nearest neighbor classifier model is - ', accuracy_3)"
   ]
  },
  {
   "cell_type": "markdown",
   "id": "78308b55",
   "metadata": {
    "papermill": {
     "duration": 0.017506,
     "end_time": "2022-07-30T04:03:48.181259",
     "exception": false,
     "start_time": "2022-07-30T04:03:48.163753",
     "status": "completed"
    },
    "tags": []
   },
   "source": [
    "**Since, the precision value for all above models is not optimum as compared to accuracy values. Thus, we can say that accuracy is not the metric that we would like to consider for this application. So, there is clearly some problem.**"
   ]
  },
  {
   "cell_type": "markdown",
   "id": "d97ed7d1",
   "metadata": {
    "papermill": {
     "duration": 0.016963,
     "end_time": "2022-07-30T04:03:48.215938",
     "exception": false,
     "start_time": "2022-07-30T04:03:48.198975",
     "status": "completed"
    },
    "tags": []
   },
   "source": [
    "# **<span style=\"color:#cd486b;\">🚨Let's find the problem!!</span>**"
   ]
  },
  {
   "cell_type": "code",
   "execution_count": 38,
   "id": "276e9051",
   "metadata": {
    "execution": {
     "iopub.execute_input": "2022-07-30T04:03:48.253152Z",
     "iopub.status.busy": "2022-07-30T04:03:48.252437Z",
     "iopub.status.idle": "2022-07-30T04:03:48.259858Z",
     "shell.execute_reply": "2022-07-30T04:03:48.258758Z"
    },
    "papermill": {
     "duration": 0.028583,
     "end_time": "2022-07-30T04:03:48.261931",
     "exception": false,
     "start_time": "2022-07-30T04:03:48.233348",
     "status": "completed"
    },
    "tags": []
   },
   "outputs": [
    {
     "data": {
      "text/plain": [
       "2    270\n",
       "1     39\n",
       "Name: LUNG_CANCER, dtype: int64"
      ]
     },
     "execution_count": 38,
     "metadata": {},
     "output_type": "execute_result"
    }
   ],
   "source": [
    "y.value_counts()"
   ]
  },
  {
   "cell_type": "markdown",
   "id": "2d2ee231",
   "metadata": {
    "papermill": {
     "duration": 0.017492,
     "end_time": "2022-07-30T04:03:48.296986",
     "exception": false,
     "start_time": "2022-07-30T04:03:48.279494",
     "status": "completed"
    },
    "tags": []
   },
   "source": [
    "## **<span style=\"color:#FFC72C;\">☢Imbalanced dataset</span>** \n",
    "\n",
    "**<span style=\"color:#000000;\"> Imbalanced datasets are those where there is a severe skew in the class distribution, such as 1:100 or 1:1000 examples in the minority class to the majority class i.e number of Yes(2) labels are more than number of No(1) labels.</span>**\n"
   ]
  },
  {
   "cell_type": "markdown",
   "id": "00b20f8d",
   "metadata": {
    "papermill": {
     "duration": 0.017704,
     "end_time": "2022-07-30T04:03:48.332307",
     "exception": false,
     "start_time": "2022-07-30T04:03:48.314603",
     "status": "completed"
    },
    "tags": []
   },
   "source": [
    "# **<span style=\"color:#cd486b;\">💡 Solution</span>**\n",
    "\n",
    "**<span style=\"color:#000000;\">Let's try some Resampling techniques to equalise the labels.</span>**\n",
    "\n"
   ]
  },
  {
   "cell_type": "markdown",
   "id": "8a2a2b00",
   "metadata": {
    "papermill": {
     "duration": 0.01702,
     "end_time": "2022-07-30T04:03:48.366660",
     "exception": false,
     "start_time": "2022-07-30T04:03:48.349640",
     "status": "completed"
    },
    "tags": []
   },
   "source": [
    "## **<span style=\"color:#cd486b;\">1️⃣ Under Sampling - Randomly delete examples in the majority class</span>**\n",
    "\n",
    "**<span style=\"color:#cd486b;\">Decresing number of samples in large class and equate them to number of samples in  the lower class with less samples.</span>**"
   ]
  },
  {
   "cell_type": "code",
   "execution_count": 39,
   "id": "2d418c6a",
   "metadata": {
    "execution": {
     "iopub.execute_input": "2022-07-30T04:03:48.405041Z",
     "iopub.status.busy": "2022-07-30T04:03:48.404327Z",
     "iopub.status.idle": "2022-07-30T04:03:48.408815Z",
     "shell.execute_reply": "2022-07-30T04:03:48.407771Z"
    },
    "papermill": {
     "duration": 0.025958,
     "end_time": "2022-07-30T04:03:48.411169",
     "exception": false,
     "start_time": "2022-07-30T04:03:48.385211",
     "status": "completed"
    },
    "tags": []
   },
   "outputs": [],
   "source": [
    "# Let's try balanced Random Forest Classifier to balance the imbalanced data\n",
    "\n",
    "brf = BalancedRandomForestClassifier(n_estimators = 100, random_state = 0)\n"
   ]
  },
  {
   "cell_type": "code",
   "execution_count": 40,
   "id": "4bb0f743",
   "metadata": {
    "execution": {
     "iopub.execute_input": "2022-07-30T04:03:48.449828Z",
     "iopub.status.busy": "2022-07-30T04:03:48.449449Z",
     "iopub.status.idle": "2022-07-30T04:03:48.681942Z",
     "shell.execute_reply": "2022-07-30T04:03:48.680893Z"
    },
    "papermill": {
     "duration": 0.25479,
     "end_time": "2022-07-30T04:03:48.684454",
     "exception": false,
     "start_time": "2022-07-30T04:03:48.429664",
     "status": "completed"
    },
    "tags": []
   },
   "outputs": [
    {
     "data": {
      "text/plain": [
       "BalancedRandomForestClassifier(random_state=0)"
      ]
     },
     "execution_count": 40,
     "metadata": {},
     "output_type": "execute_result"
    }
   ],
   "source": [
    "brf.fit(X_train, y_train)"
   ]
  },
  {
   "cell_type": "code",
   "execution_count": 41,
   "id": "6e91da0c",
   "metadata": {
    "execution": {
     "iopub.execute_input": "2022-07-30T04:03:48.722189Z",
     "iopub.status.busy": "2022-07-30T04:03:48.721798Z",
     "iopub.status.idle": "2022-07-30T04:03:48.742903Z",
     "shell.execute_reply": "2022-07-30T04:03:48.741936Z"
    },
    "papermill": {
     "duration": 0.042614,
     "end_time": "2022-07-30T04:03:48.745235",
     "exception": false,
     "start_time": "2022-07-30T04:03:48.702621",
     "status": "completed"
    },
    "tags": []
   },
   "outputs": [
    {
     "name": "stdout",
     "output_type": "stream",
     "text": [
      "F1 score with Balanced Random Forest Classifier is  0.6666666666666666\n"
     ]
    }
   ],
   "source": [
    "print(\"F1 score with Balanced Random Forest Classifier is \",sklearn.metrics.f1_score(y_test, brf.predict(X_test)))"
   ]
  },
  {
   "cell_type": "code",
   "execution_count": 42,
   "id": "7796d575",
   "metadata": {
    "execution": {
     "iopub.execute_input": "2022-07-30T04:03:48.784438Z",
     "iopub.status.busy": "2022-07-30T04:03:48.783898Z",
     "iopub.status.idle": "2022-07-30T04:03:48.805400Z",
     "shell.execute_reply": "2022-07-30T04:03:48.804274Z"
    },
    "papermill": {
     "duration": 0.043307,
     "end_time": "2022-07-30T04:03:48.807719",
     "exception": false,
     "start_time": "2022-07-30T04:03:48.764412",
     "status": "completed"
    },
    "tags": []
   },
   "outputs": [
    {
     "name": "stdout",
     "output_type": "stream",
     "text": [
      "Precision score for Balanced Random Forest Classifier is   0.5\n"
     ]
    }
   ],
   "source": [
    "pre_score = sklearn.metrics.precision_score(y_test, brf.predict(X_test))\n",
    "print(\"Precision score for Balanced Random Forest Classifier is  \", pre_score)"
   ]
  },
  {
   "cell_type": "code",
   "execution_count": 43,
   "id": "75532c72",
   "metadata": {
    "execution": {
     "iopub.execute_input": "2022-07-30T04:03:48.845476Z",
     "iopub.status.busy": "2022-07-30T04:03:48.844566Z",
     "iopub.status.idle": "2022-07-30T04:03:49.061818Z",
     "shell.execute_reply": "2022-07-30T04:03:49.060761Z"
    },
    "papermill": {
     "duration": 0.238802,
     "end_time": "2022-07-30T04:03:49.064245",
     "exception": false,
     "start_time": "2022-07-30T04:03:48.825443",
     "status": "completed"
    },
    "tags": []
   },
   "outputs": [
    {
     "data": {
      "text/plain": [
       "<sklearn.metrics._plot.confusion_matrix.ConfusionMatrixDisplay at 0x7fafd29bd050>"
      ]
     },
     "execution_count": 43,
     "metadata": {},
     "output_type": "execute_result"
    },
    {
     "data": {
      "image/png": "[encoded data removed]",
      "text/plain": [
       "<Figure size 432x288 with 2 Axes>"
      ]
     },
     "metadata": {
      "needs_background": "light"
     },
     "output_type": "display_data"
    }
   ],
   "source": [
    "#Confusion Matrix\n",
    "\n",
    "cm = confusion_matrix(y_test, brf.predict(X_test), labels=brf.classes_)\n",
    "disp = ConfusionMatrixDisplay(confusion_matrix=cm,\n",
    "                              display_labels=brf.classes_)\n",
    "disp.plot()"
   ]
  },
  {
   "cell_type": "markdown",
   "id": "846a8ecc",
   "metadata": {
    "papermill": {
     "duration": 0.018151,
     "end_time": "2022-07-30T04:03:49.100948",
     "exception": false,
     "start_time": "2022-07-30T04:03:49.082797",
     "status": "completed"
    },
    "tags": []
   },
   "source": [
    "## **<span style=\"color:#cd486b;\">2️⃣ Over Sampling - Randomly duplicate examples in the minority class.</span>**"
   ]
  },
  {
   "cell_type": "code",
   "execution_count": 44,
   "id": "a22dacf8",
   "metadata": {
    "execution": {
     "iopub.execute_input": "2022-07-30T04:03:49.139416Z",
     "iopub.status.busy": "2022-07-30T04:03:49.138689Z",
     "iopub.status.idle": "2022-07-30T04:03:49.224571Z",
     "shell.execute_reply": "2022-07-30T04:03:49.223084Z"
    },
    "papermill": {
     "duration": 0.108787,
     "end_time": "2022-07-30T04:03:49.228026",
     "exception": false,
     "start_time": "2022-07-30T04:03:49.119239",
     "status": "completed"
    },
    "tags": []
   },
   "outputs": [
    {
     "name": "stdout",
     "output_type": "stream",
     "text": [
      "Orignal dataset shape Counter({0: 270, 1: 39})\n"
     ]
    }
   ],
   "source": [
    "from collections import Counter\n",
    "from sklearn.datasets import make_classification\n",
    "from imblearn.over_sampling import RandomOverSampler\n",
    "\n",
    "#y labels are - 270: 39 (divide both by 309 to get weights)\n",
    "X, y = make_classification(n_classes = 2, class_sep = 2, weights = [0.87, 0.12], \n",
    "                           n_informative = 3, n_redundant = 1, flip_y = 0, n_features = 20,\n",
    "                          n_clusters_per_class = 1, n_samples = 309, random_state = 10)\n",
    "\n",
    "print('Orignal dataset shape %s' % Counter(y))"
   ]
  },
  {
   "cell_type": "code",
   "execution_count": 45,
   "id": "58b02cd4",
   "metadata": {
    "execution": {
     "iopub.execute_input": "2022-07-30T04:03:49.268063Z",
     "iopub.status.busy": "2022-07-30T04:03:49.267255Z",
     "iopub.status.idle": "2022-07-30T04:03:49.275520Z",
     "shell.execute_reply": "2022-07-30T04:03:49.274260Z"
    },
    "papermill": {
     "duration": 0.030409,
     "end_time": "2022-07-30T04:03:49.277619",
     "exception": false,
     "start_time": "2022-07-30T04:03:49.247210",
     "status": "completed"
    },
    "tags": []
   },
   "outputs": [
    {
     "name": "stdout",
     "output_type": "stream",
     "text": [
      "Reshaped dataset shape Counter({0: 270, 1: 270})\n"
     ]
    }
   ],
   "source": [
    "ros = RandomOverSampler(random_state = 42)\n",
    "X_res, y_res = ros.fit_resample(X, y)\n",
    "\n",
    "print('Reshaped dataset shape %s' % Counter(y_res))"
   ]
  },
  {
   "cell_type": "code",
   "execution_count": 46,
   "id": "473934f5",
   "metadata": {
    "execution": {
     "iopub.execute_input": "2022-07-30T04:03:49.316980Z",
     "iopub.status.busy": "2022-07-30T04:03:49.316151Z",
     "iopub.status.idle": "2022-07-30T04:03:49.323096Z",
     "shell.execute_reply": "2022-07-30T04:03:49.322319Z"
    },
    "papermill": {
     "duration": 0.028926,
     "end_time": "2022-07-30T04:03:49.325190",
     "exception": false,
     "start_time": "2022-07-30T04:03:49.296264",
     "status": "completed"
    },
    "tags": []
   },
   "outputs": [],
   "source": [
    "X_train, X_test, y_train, y_test = train_test_split(X_res, y_res, random_state = 42, test_size = 0.2, stratify = y_res)"
   ]
  },
  {
   "cell_type": "code",
   "execution_count": 47,
   "id": "55eb21cb",
   "metadata": {
    "execution": {
     "iopub.execute_input": "2022-07-30T04:03:49.364275Z",
     "iopub.status.busy": "2022-07-30T04:03:49.363491Z",
     "iopub.status.idle": "2022-07-30T04:03:49.525035Z",
     "shell.execute_reply": "2022-07-30T04:03:49.523916Z"
    },
    "papermill": {
     "duration": 0.184004,
     "end_time": "2022-07-30T04:03:49.527512",
     "exception": false,
     "start_time": "2022-07-30T04:03:49.343508",
     "status": "completed"
    },
    "tags": []
   },
   "outputs": [
    {
     "data": {
      "text/plain": [
       "RandomForestClassifier()"
      ]
     },
     "execution_count": 47,
     "metadata": {},
     "output_type": "execute_result"
    }
   ],
   "source": [
    "model = RandomForestClassifier() \n",
    "model.fit(X_train, y_train)"
   ]
  },
  {
   "cell_type": "code",
   "execution_count": 48,
   "id": "3f8a833d",
   "metadata": {
    "execution": {
     "iopub.execute_input": "2022-07-30T04:03:49.566622Z",
     "iopub.status.busy": "2022-07-30T04:03:49.565983Z",
     "iopub.status.idle": "2022-07-30T04:03:49.582193Z",
     "shell.execute_reply": "2022-07-30T04:03:49.581423Z"
    },
    "papermill": {
     "duration": 0.038135,
     "end_time": "2022-07-30T04:03:49.584575",
     "exception": false,
     "start_time": "2022-07-30T04:03:49.546440",
     "status": "completed"
    },
    "tags": []
   },
   "outputs": [],
   "source": [
    "predictions = model.predict(X_test)"
   ]
  },
  {
   "cell_type": "code",
   "execution_count": 49,
   "id": "429160cb",
   "metadata": {
    "execution": {
     "iopub.execute_input": "2022-07-30T04:03:49.623386Z",
     "iopub.status.busy": "2022-07-30T04:03:49.622304Z",
     "iopub.status.idle": "2022-07-30T04:03:49.630766Z",
     "shell.execute_reply": "2022-07-30T04:03:49.629431Z"
    },
    "papermill": {
     "duration": 0.03018,
     "end_time": "2022-07-30T04:03:49.633118",
     "exception": false,
     "start_time": "2022-07-30T04:03:49.602938",
     "status": "completed"
    },
    "tags": []
   },
   "outputs": [
    {
     "name": "stdout",
     "output_type": "stream",
     "text": [
      "Precision score after using Balanced Random Forest Classifier is   0.9642857142857143\n"
     ]
    }
   ],
   "source": [
    "model_precision_score = sklearn.metrics.precision_score(y_test, predictions, labels=model.classes_)\n",
    "print(\"Precision score after using Balanced Random Forest Classifier is  \", model_precision_score)"
   ]
  },
  {
   "cell_type": "code",
   "execution_count": 50,
   "id": "6a3a2bcd",
   "metadata": {
    "execution": {
     "iopub.execute_input": "2022-07-30T04:03:49.672018Z",
     "iopub.status.busy": "2022-07-30T04:03:49.671604Z",
     "iopub.status.idle": "2022-07-30T04:03:49.691459Z",
     "shell.execute_reply": "2022-07-30T04:03:49.690061Z"
    },
    "papermill": {
     "duration": 0.04368,
     "end_time": "2022-07-30T04:03:49.695179",
     "exception": false,
     "start_time": "2022-07-30T04:03:49.651499",
     "status": "completed"
    },
    "tags": []
   },
   "outputs": [
    {
     "name": "stdout",
     "output_type": "stream",
     "text": [
      "F1 score after Balanced Random Forest Classifier is  0.9818181818181818\n"
     ]
    }
   ],
   "source": [
    "print(\"F1 score after Balanced Random Forest Classifier is \",sklearn.metrics.f1_score(y_test, model.predict(X_test)))"
   ]
  },
  {
   "cell_type": "code",
   "execution_count": 51,
   "id": "3e7aa9aa",
   "metadata": {
    "execution": {
     "iopub.execute_input": "2022-07-30T04:03:49.735892Z",
     "iopub.status.busy": "2022-07-30T04:03:49.734978Z",
     "iopub.status.idle": "2022-07-30T04:03:49.953738Z",
     "shell.execute_reply": "2022-07-30T04:03:49.952533Z"
    },
    "papermill": {
     "duration": 0.241721,
     "end_time": "2022-07-30T04:03:49.956171",
     "exception": false,
     "start_time": "2022-07-30T04:03:49.714450",
     "status": "completed"
    },
    "tags": []
   },
   "outputs": [
    {
     "data": {
      "text/plain": [
       "<sklearn.metrics._plot.confusion_matrix.ConfusionMatrixDisplay at 0x7fafd294c490>"
      ]
     },
     "execution_count": 51,
     "metadata": {},
     "output_type": "execute_result"
    },
    {
     "data": {
      "image/png": "[encoded data removed]",
      "text/plain": [
       "<Figure size 432x288 with 2 Axes>"
      ]
     },
     "metadata": {
      "needs_background": "light"
     },
     "output_type": "display_data"
    }
   ],
   "source": [
    "#Confusion Matrix\n",
    "\n",
    "cm = confusion_matrix(y_test, model.predict(X_test), labels=model.classes_)\n",
    "disp = ConfusionMatrixDisplay(confusion_matrix=cm,\n",
    "                              display_labels=model.classes_)\n",
    "disp.plot()"
   ]
  },
  {
   "cell_type": "markdown",
   "id": "f6ec69b7",
   "metadata": {
    "papermill": {
     "duration": 0.018636,
     "end_time": "2022-07-30T04:03:49.995160",
     "exception": false,
     "start_time": "2022-07-30T04:03:49.976524",
     "status": "completed"
    },
    "tags": []
   },
   "source": [
    "## **<span style=\"color:#cd486b;\">It worked!! 🤩</span>**\n",
    "\n",
    "**<span style=\"color:#cd486b;\">Using oversampling technique we were able to get high precision and recall values along with high F1 score of 0.981 which can be easily witnessed using the above confusion matrix.</span>**\n",
    "\n",
    "\n"
   ]
  },
  {
   "cell_type": "markdown",
   "id": "efc8e827",
   "metadata": {
    "papermill": {
     "duration": 0.01854,
     "end_time": "2022-07-30T04:03:50.032596",
     "exception": false,
     "start_time": "2022-07-30T04:03:50.014056",
     "status": "completed"
    },
    "tags": []
   },
   "source": [
    "# **<span style=\"color:#cd486b;\">🙏 Acknowledgement</span>**\n",
    "\n",
    "🙌Few snippets of above code have been inspired from notebook created by @JILLANI SOFT TECH.🙌"
   ]
  },
  {
   "cell_type": "markdown",
   "id": "ccd28351",
   "metadata": {
    "papermill": {
     "duration": 0.018409,
     "end_time": "2022-07-30T04:03:50.069609",
     "exception": false,
     "start_time": "2022-07-30T04:03:50.051200",
     "status": "completed"
    },
    "tags": []
   },
   "source": [
    "# **<span style=\"color:#cd486b;\">🤘Conclusion</span>**\n",
    "\n",
    "> We learnt that accuracy is not always the optimum metric to rely upon.\n",
    "\n",
    "> We need to make a note of imbalanced dataset and overcome their limitations using Resampling techniques like Over and under sampling.\n",
    "\n",
    "> Augmentation techiques could also be another thing that could help work around imbalanced datasets."
   ]
  },
  {
   "cell_type": "markdown",
   "id": "64c01771",
   "metadata": {
    "papermill": {
     "duration": 0.019044,
     "end_time": "2022-07-30T04:03:50.107417",
     "exception": false,
     "start_time": "2022-07-30T04:03:50.088373",
     "status": "completed"
    },
    "tags": []
   },
   "source": [
    "**<span style=\"color:#000000;\">This marks the end of Lung Cancer detection with ML Model</span>** \n",
    "\n",
    "**<span style=\"color:#000000;\"> Stay Tuned for more..</span>** \n",
    "\n",
    "**<span style=\"color:#000000;\">Please share your feedback and suggestions and help me improve 😇 </span>** "
   ]
  }
 ],
 "metadata": {
  "kernelspec": {
   "display_name": "Python 3",
   "language": "python",
   "name": "python3"
  },
  "language_info": {
   "codemirror_mode": {
    "name": "ipython",
    "version": 3
   },
   "file_extension": ".py",
   "mimetype": "text/x-python",
   "name": "python",
   "nbconvert_exporter": "python",
   "pygments_lexer": "ipython3",
   "version": "3.7.12"
  },
  "papermill": {
   "default_parameters": {},
   "duration": 16.374883,
   "end_time": "2022-07-30T04:03:50.948610",
   "environment_variables": {},
   "exception": null,
   "input_path": "__notebook__.ipynb",
   "output_path": "__notebook__.ipynb",
   "parameters": {},
   "start_time": "2022-07-30T04:03:34.573727",
   "version": "2.3.4"
  }
 },
 "nbformat": 4,
 "nbformat_minor": 5
}
